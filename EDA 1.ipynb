{
 "cells": [
  {
   "cell_type": "markdown",
   "metadata": {},
   "source": [
    "This file contains the steps from reading the data through data description,  outliers elimination to choosing features for further analysis."
   ]
  },
  {
   "cell_type": "code",
   "execution_count": 1,
   "metadata": {},
   "outputs": [],
   "source": [
    "import pandas as pd\n",
    "import matplotlib.pyplot as plt\n",
    "import seaborn as sns\n",
    "%matplotlib inline"
   ]
  },
  {
   "cell_type": "code",
   "execution_count": 2,
   "metadata": {},
   "outputs": [
    {
     "data": {
      "text/html": [
       "<div>\n",
       "<style scoped>\n",
       "    .dataframe tbody tr th:only-of-type {\n",
       "        vertical-align: middle;\n",
       "    }\n",
       "\n",
       "    .dataframe tbody tr th {\n",
       "        vertical-align: top;\n",
       "    }\n",
       "\n",
       "    .dataframe thead th {\n",
       "        text-align: right;\n",
       "    }\n",
       "</style>\n",
       "<table border=\"1\" class=\"dataframe\">\n",
       "  <thead>\n",
       "    <tr style=\"text-align: right;\">\n",
       "      <th></th>\n",
       "      <th>age</th>\n",
       "      <th>job</th>\n",
       "      <th>marital</th>\n",
       "      <th>education</th>\n",
       "      <th>default</th>\n",
       "      <th>balance</th>\n",
       "      <th>housing</th>\n",
       "      <th>loan</th>\n",
       "      <th>contact</th>\n",
       "      <th>day</th>\n",
       "      <th>month</th>\n",
       "      <th>duration</th>\n",
       "      <th>campaign</th>\n",
       "      <th>pdays</th>\n",
       "      <th>previous</th>\n",
       "      <th>poutcome</th>\n",
       "      <th>y</th>\n",
       "    </tr>\n",
       "  </thead>\n",
       "  <tbody>\n",
       "    <tr>\n",
       "      <th>40587</th>\n",
       "      <td>63</td>\n",
       "      <td>retired</td>\n",
       "      <td>single</td>\n",
       "      <td>tertiary</td>\n",
       "      <td>no</td>\n",
       "      <td>70</td>\n",
       "      <td>no</td>\n",
       "      <td>no</td>\n",
       "      <td>cellular</td>\n",
       "      <td>27</td>\n",
       "      <td>jul</td>\n",
       "      <td>82</td>\n",
       "      <td>2</td>\n",
       "      <td>-1</td>\n",
       "      <td>0</td>\n",
       "      <td>unknown</td>\n",
       "      <td>no</td>\n",
       "    </tr>\n",
       "    <tr>\n",
       "      <th>42339</th>\n",
       "      <td>42</td>\n",
       "      <td>management</td>\n",
       "      <td>married</td>\n",
       "      <td>tertiary</td>\n",
       "      <td>no</td>\n",
       "      <td>2187</td>\n",
       "      <td>yes</td>\n",
       "      <td>no</td>\n",
       "      <td>cellular</td>\n",
       "      <td>17</td>\n",
       "      <td>nov</td>\n",
       "      <td>525</td>\n",
       "      <td>3</td>\n",
       "      <td>-1</td>\n",
       "      <td>0</td>\n",
       "      <td>unknown</td>\n",
       "      <td>yes</td>\n",
       "    </tr>\n",
       "    <tr>\n",
       "      <th>33383</th>\n",
       "      <td>52</td>\n",
       "      <td>blue-collar</td>\n",
       "      <td>married</td>\n",
       "      <td>secondary</td>\n",
       "      <td>no</td>\n",
       "      <td>782</td>\n",
       "      <td>yes</td>\n",
       "      <td>yes</td>\n",
       "      <td>cellular</td>\n",
       "      <td>20</td>\n",
       "      <td>apr</td>\n",
       "      <td>104</td>\n",
       "      <td>1</td>\n",
       "      <td>-1</td>\n",
       "      <td>0</td>\n",
       "      <td>unknown</td>\n",
       "      <td>no</td>\n",
       "    </tr>\n",
       "    <tr>\n",
       "      <th>20626</th>\n",
       "      <td>54</td>\n",
       "      <td>blue-collar</td>\n",
       "      <td>married</td>\n",
       "      <td>primary</td>\n",
       "      <td>no</td>\n",
       "      <td>1173</td>\n",
       "      <td>no</td>\n",
       "      <td>no</td>\n",
       "      <td>telephone</td>\n",
       "      <td>12</td>\n",
       "      <td>aug</td>\n",
       "      <td>128</td>\n",
       "      <td>8</td>\n",
       "      <td>-1</td>\n",
       "      <td>0</td>\n",
       "      <td>unknown</td>\n",
       "      <td>no</td>\n",
       "    </tr>\n",
       "    <tr>\n",
       "      <th>26664</th>\n",
       "      <td>44</td>\n",
       "      <td>blue-collar</td>\n",
       "      <td>married</td>\n",
       "      <td>secondary</td>\n",
       "      <td>no</td>\n",
       "      <td>3060</td>\n",
       "      <td>yes</td>\n",
       "      <td>no</td>\n",
       "      <td>cellular</td>\n",
       "      <td>20</td>\n",
       "      <td>nov</td>\n",
       "      <td>113</td>\n",
       "      <td>1</td>\n",
       "      <td>189</td>\n",
       "      <td>2</td>\n",
       "      <td>failure</td>\n",
       "      <td>no</td>\n",
       "    </tr>\n",
       "  </tbody>\n",
       "</table>\n",
       "</div>"
      ],
      "text/plain": [
       "       age          job  marital  education default  balance housing loan  \\\n",
       "40587   63      retired   single   tertiary      no       70      no   no   \n",
       "42339   42   management  married   tertiary      no     2187     yes   no   \n",
       "33383   52  blue-collar  married  secondary      no      782     yes  yes   \n",
       "20626   54  blue-collar  married    primary      no     1173      no   no   \n",
       "26664   44  blue-collar  married  secondary      no     3060     yes   no   \n",
       "\n",
       "         contact  day month  duration  campaign  pdays  previous poutcome    y  \n",
       "40587   cellular   27   jul        82         2     -1         0  unknown   no  \n",
       "42339   cellular   17   nov       525         3     -1         0  unknown  yes  \n",
       "33383   cellular   20   apr       104         1     -1         0  unknown   no  \n",
       "20626  telephone   12   aug       128         8     -1         0  unknown   no  \n",
       "26664   cellular   20   nov       113         1    189         2  failure   no  "
      ]
     },
     "execution_count": 2,
     "metadata": {},
     "output_type": "execute_result"
    }
   ],
   "source": [
    "# reading data\n",
    "\n",
    "bankFull = pd.read_csv(\"bank-full.csv\", sep=\";\") \n",
    "bankFull.sample(5)"
   ]
  },
  {
   "cell_type": "markdown",
   "metadata": {},
   "source": [
    "# Exploratory Data Analysis, Part 1\n",
    "\n",
    "As we can see data contains both categorical and numerical features and there is no missing values. Detailed description of data contains file \"bank-names.txt\". \n",
    "\n",
    "The output variable is \"y\" and describe clients who accepted the offer of a bank deposit.\n"
   ]
  },
  {
   "cell_type": "code",
   "execution_count": 3,
   "metadata": {},
   "outputs": [
    {
     "name": "stdout",
     "output_type": "stream",
     "text": [
      "<class 'pandas.core.frame.DataFrame'>\n",
      "RangeIndex: 45211 entries, 0 to 45210\n",
      "Data columns (total 17 columns):\n",
      " #   Column     Non-Null Count  Dtype \n",
      "---  ------     --------------  ----- \n",
      " 0   age        45211 non-null  int64 \n",
      " 1   job        45211 non-null  object\n",
      " 2   marital    45211 non-null  object\n",
      " 3   education  45211 non-null  object\n",
      " 4   default    45211 non-null  object\n",
      " 5   balance    45211 non-null  int64 \n",
      " 6   housing    45211 non-null  object\n",
      " 7   loan       45211 non-null  object\n",
      " 8   contact    45211 non-null  object\n",
      " 9   day        45211 non-null  int64 \n",
      " 10  month      45211 non-null  object\n",
      " 11  duration   45211 non-null  int64 \n",
      " 12  campaign   45211 non-null  int64 \n",
      " 13  pdays      45211 non-null  int64 \n",
      " 14  previous   45211 non-null  int64 \n",
      " 15  poutcome   45211 non-null  object\n",
      " 16  y          45211 non-null  object\n",
      "dtypes: int64(7), object(10)\n",
      "memory usage: 5.9+ MB\n"
     ]
    }
   ],
   "source": [
    "bankFull.info()"
   ]
  },
  {
   "cell_type": "markdown",
   "metadata": {},
   "source": [
    "## Numerical features"
   ]
  },
  {
   "cell_type": "code",
   "execution_count": 4,
   "metadata": {},
   "outputs": [
    {
     "data": {
      "text/html": [
       "<div>\n",
       "<style scoped>\n",
       "    .dataframe tbody tr th:only-of-type {\n",
       "        vertical-align: middle;\n",
       "    }\n",
       "\n",
       "    .dataframe tbody tr th {\n",
       "        vertical-align: top;\n",
       "    }\n",
       "\n",
       "    .dataframe thead th {\n",
       "        text-align: right;\n",
       "    }\n",
       "</style>\n",
       "<table border=\"1\" class=\"dataframe\">\n",
       "  <thead>\n",
       "    <tr style=\"text-align: right;\">\n",
       "      <th></th>\n",
       "      <th>age</th>\n",
       "      <th>balance</th>\n",
       "      <th>day</th>\n",
       "      <th>duration</th>\n",
       "      <th>campaign</th>\n",
       "      <th>pdays</th>\n",
       "      <th>previous</th>\n",
       "    </tr>\n",
       "  </thead>\n",
       "  <tbody>\n",
       "    <tr>\n",
       "      <th>count</th>\n",
       "      <td>45211.000000</td>\n",
       "      <td>45211.000000</td>\n",
       "      <td>45211.000000</td>\n",
       "      <td>45211.000000</td>\n",
       "      <td>45211.000000</td>\n",
       "      <td>45211.000000</td>\n",
       "      <td>45211.000000</td>\n",
       "    </tr>\n",
       "    <tr>\n",
       "      <th>mean</th>\n",
       "      <td>40.936210</td>\n",
       "      <td>1362.272058</td>\n",
       "      <td>15.806419</td>\n",
       "      <td>258.163080</td>\n",
       "      <td>2.763841</td>\n",
       "      <td>40.197828</td>\n",
       "      <td>0.580323</td>\n",
       "    </tr>\n",
       "    <tr>\n",
       "      <th>std</th>\n",
       "      <td>10.618762</td>\n",
       "      <td>3044.765829</td>\n",
       "      <td>8.322476</td>\n",
       "      <td>257.527812</td>\n",
       "      <td>3.098021</td>\n",
       "      <td>100.128746</td>\n",
       "      <td>2.303441</td>\n",
       "    </tr>\n",
       "    <tr>\n",
       "      <th>min</th>\n",
       "      <td>18.000000</td>\n",
       "      <td>-8019.000000</td>\n",
       "      <td>1.000000</td>\n",
       "      <td>0.000000</td>\n",
       "      <td>1.000000</td>\n",
       "      <td>-1.000000</td>\n",
       "      <td>0.000000</td>\n",
       "    </tr>\n",
       "    <tr>\n",
       "      <th>25%</th>\n",
       "      <td>33.000000</td>\n",
       "      <td>72.000000</td>\n",
       "      <td>8.000000</td>\n",
       "      <td>103.000000</td>\n",
       "      <td>1.000000</td>\n",
       "      <td>-1.000000</td>\n",
       "      <td>0.000000</td>\n",
       "    </tr>\n",
       "    <tr>\n",
       "      <th>50%</th>\n",
       "      <td>39.000000</td>\n",
       "      <td>448.000000</td>\n",
       "      <td>16.000000</td>\n",
       "      <td>180.000000</td>\n",
       "      <td>2.000000</td>\n",
       "      <td>-1.000000</td>\n",
       "      <td>0.000000</td>\n",
       "    </tr>\n",
       "    <tr>\n",
       "      <th>75%</th>\n",
       "      <td>48.000000</td>\n",
       "      <td>1428.000000</td>\n",
       "      <td>21.000000</td>\n",
       "      <td>319.000000</td>\n",
       "      <td>3.000000</td>\n",
       "      <td>-1.000000</td>\n",
       "      <td>0.000000</td>\n",
       "    </tr>\n",
       "    <tr>\n",
       "      <th>max</th>\n",
       "      <td>95.000000</td>\n",
       "      <td>102127.000000</td>\n",
       "      <td>31.000000</td>\n",
       "      <td>4918.000000</td>\n",
       "      <td>63.000000</td>\n",
       "      <td>871.000000</td>\n",
       "      <td>275.000000</td>\n",
       "    </tr>\n",
       "  </tbody>\n",
       "</table>\n",
       "</div>"
      ],
      "text/plain": [
       "                age        balance           day      duration      campaign  \\\n",
       "count  45211.000000   45211.000000  45211.000000  45211.000000  45211.000000   \n",
       "mean      40.936210    1362.272058     15.806419    258.163080      2.763841   \n",
       "std       10.618762    3044.765829      8.322476    257.527812      3.098021   \n",
       "min       18.000000   -8019.000000      1.000000      0.000000      1.000000   \n",
       "25%       33.000000      72.000000      8.000000    103.000000      1.000000   \n",
       "50%       39.000000     448.000000     16.000000    180.000000      2.000000   \n",
       "75%       48.000000    1428.000000     21.000000    319.000000      3.000000   \n",
       "max       95.000000  102127.000000     31.000000   4918.000000     63.000000   \n",
       "\n",
       "              pdays      previous  \n",
       "count  45211.000000  45211.000000  \n",
       "mean      40.197828      0.580323  \n",
       "std      100.128746      2.303441  \n",
       "min       -1.000000      0.000000  \n",
       "25%       -1.000000      0.000000  \n",
       "50%       -1.000000      0.000000  \n",
       "75%       -1.000000      0.000000  \n",
       "max      871.000000    275.000000  "
      ]
     },
     "execution_count": 4,
     "metadata": {},
     "output_type": "execute_result"
    }
   ],
   "source": [
    "#selecting numerical features \n",
    "numeric_columns = [column for column in bankFull.columns if bankFull[column].dtype == \"int64\" ]\n",
    "numeric_columns\n",
    "bankFull.describe()"
   ]
  },
  {
   "cell_type": "markdown",
   "metadata": {},
   "source": [
    "### Histogram plots"
   ]
  },
  {
   "cell_type": "code",
   "execution_count": 5,
   "metadata": {},
   "outputs": [
    {
     "data": {
      "text/plain": [
       "<Figure size 432x288 with 0 Axes>"
      ]
     },
     "metadata": {},
     "output_type": "display_data"
    },
    {
     "data": {
      "image/png": "[encoded data removed]",
      "text/plain": [
       "<Figure size 360x360 with 1 Axes>"
      ]
     },
     "metadata": {
      "needs_background": "light"
     },
     "output_type": "display_data"
    },
    {
     "data": {
      "text/plain": [
       "<Figure size 432x288 with 0 Axes>"
      ]
     },
     "metadata": {},
     "output_type": "display_data"
    },
    {
     "data": {
      "image/png": "[encoded data removed]",
      "text/plain": [
       "<Figure size 360x360 with 1 Axes>"
      ]
     },
     "metadata": {
      "needs_background": "light"
     },
     "output_type": "display_data"
    },
    {
     "data": {
      "text/plain": [
       "<Figure size 432x288 with 0 Axes>"
      ]
     },
     "metadata": {},
     "output_type": "display_data"
    },
    {
     "data": {
      "image/png": "[encoded data removed]",
      "text/plain": [
       "<Figure size 360x360 with 1 Axes>"
      ]
     },
     "metadata": {
      "needs_background": "light"
     },
     "output_type": "display_data"
    },
    {
     "data": {
      "text/plain": [
       "<Figure size 432x288 with 0 Axes>"
      ]
     },
     "metadata": {},
     "output_type": "display_data"
    },
    {
     "data": {
      "image/png": "[encoded data removed]",
      "text/plain": [
       "<Figure size 360x360 with 1 Axes>"
      ]
     },
     "metadata": {
      "needs_background": "light"
     },
     "output_type": "display_data"
    },
    {
     "data": {
      "text/plain": [
       "<Figure size 432x288 with 0 Axes>"
      ]
     },
     "metadata": {},
     "output_type": "display_data"
    },
    {
     "data": {
      "image/png": "[encoded data removed]",
      "text/plain": [
       "<Figure size 360x360 with 1 Axes>"
      ]
     },
     "metadata": {
      "needs_background": "light"
     },
     "output_type": "display_data"
    },
    {
     "data": {
      "text/plain": [
       "<Figure size 432x288 with 0 Axes>"
      ]
     },
     "metadata": {},
     "output_type": "display_data"
    },
    {
     "data": {
      "image/png": "[encoded data removed]",
      "text/plain": [
       "<Figure size 360x360 with 1 Axes>"
      ]
     },
     "metadata": {
      "needs_background": "light"
     },
     "output_type": "display_data"
    },
    {
     "data": {
      "text/plain": [
       "<Figure size 432x288 with 0 Axes>"
      ]
     },
     "metadata": {},
     "output_type": "display_data"
    },
    {
     "data": {
      "image/png": "[encoded data removed]",
      "text/plain": [
       "<Figure size 360x360 with 1 Axes>"
      ]
     },
     "metadata": {
      "needs_background": "light"
     },
     "output_type": "display_data"
    }
   ],
   "source": [
    "for feature in numeric_columns:\n",
    "    plt.figure()\n",
    "    sns.displot(bankFull[feature], kde= False,bins = 40);"
   ]
  },
  {
   "cell_type": "markdown",
   "metadata": {},
   "source": [
    "### Outlieres removing\n",
    "\n",
    "Interquartile Range Rule was used there.\n",
    "\n",
    "Interquartile ($iqr$) is the difference between $q_3$ and $q_1$. We remove the data lower than $q_1 - 1.5* iqr$ and larger than $q_3 + 1.5* iqr$."
   ]
  },
  {
   "cell_type": "code",
   "execution_count": 6,
   "metadata": {},
   "outputs": [],
   "source": [
    "def low_high_boundary(data):\n",
    "    \"\"\"\n",
    "    Calculating low and high boundary to eliminate the outlieres\n",
    "    \"\"\"\n",
    "    q3 = data.quantile(0.75)\n",
    "    q1 = data.quantile(0.25)\n",
    "    iqr = q3 - q1\n",
    "    return  q1 - 1.5 * iqr, q3 + 1.5 * iqr \n",
    "    "
   ]
  },
  {
   "cell_type": "code",
   "execution_count": 7,
   "metadata": {},
   "outputs": [
    {
     "name": "stdout",
     "output_type": "stream",
     "text": [
      "  feature name  high_boundary  low_boundery  num_high_outLieres  \\\n",
      "0          age           70.5          10.5               487.0   \n",
      "1      balance         3462.0       -1962.0              4712.0   \n",
      "2          day           40.5         -11.5                 0.0   \n",
      "3     duration          643.0        -221.0              3235.0   \n",
      "4     campaign            6.0          -2.0              3064.0   \n",
      "5        pdays           -1.0          -1.0              8257.0   \n",
      "6     previous            0.0           0.0              8257.0   \n",
      "\n",
      "   num_low_outLieres     q1      q3  \n",
      "0                0.0   33.0    48.0  \n",
      "1               17.0   72.0  1428.0  \n",
      "2                0.0    8.0    21.0  \n",
      "3                0.0  103.0   319.0  \n",
      "4                0.0    1.0     3.0  \n",
      "5                0.0   -1.0    -1.0  \n",
      "6                0.0    0.0     0.0  \n"
     ]
    }
   ],
   "source": [
    "#outliers boudary report \n",
    "frame = pd.DataFrame()\n",
    "for name in numeric_columns:\n",
    "    a, b = low_high_boundary(bankFull[name])\n",
    "    frame = frame.append({\n",
    "        \"feature name\" : name,\n",
    "        \"q1\":bankFull[name].quantile(0.25),\n",
    "        \"q3\":bankFull[name].quantile(0.75),\n",
    "        \"low_boundery\" : a,\n",
    "        \"high_boundary\" : b,\n",
    "        \"num_low_outLieres\" : (bankFull[name] < a).sum(),\n",
    "        \"num_high_outLieres\" : (bankFull[name] > b).sum()\n",
    "    },ignore_index = True)\n",
    "\n",
    "print(frame)\n"
   ]
  },
  {
   "cell_type": "markdown",
   "metadata": {},
   "source": [
    "As we can see for 'pdays' and 'previous' this method do not work since $q_3 = q_1$. Above we listed counted values of 'previous' and histogram without value 0. The same with 'pdays' (there we have removed value -1). it seems that most of our data does not contain the information about previous campaigns. So we repeat Interquartile Range for nonzero values."
   ]
  },
  {
   "cell_type": "code",
   "execution_count": 8,
   "metadata": {},
   "outputs": [
    {
     "data": {
      "text/plain": [
       "0      36954\n",
       "1       2772\n",
       "2       2106\n",
       "3       1142\n",
       "4        714\n",
       "5        459\n",
       "6        277\n",
       "7        205\n",
       "8        129\n",
       "9         92\n",
       "10        67\n",
       "11        65\n",
       "12        44\n",
       "13        38\n",
       "15        20\n",
       "14        19\n",
       "17        15\n",
       "16        13\n",
       "19        11\n",
       "23         8\n",
       "20         8\n",
       "22         6\n",
       "18         6\n",
       "24         5\n",
       "27         5\n",
       "29         4\n",
       "25         4\n",
       "21         4\n",
       "30         3\n",
       "28         2\n",
       "26         2\n",
       "37         2\n",
       "38         2\n",
       "55         1\n",
       "40         1\n",
       "35         1\n",
       "58         1\n",
       "51         1\n",
       "41         1\n",
       "32         1\n",
       "275        1\n",
       "Name: previous, dtype: int64"
      ]
     },
     "execution_count": 8,
     "metadata": {},
     "output_type": "execute_result"
    }
   ],
   "source": [
    "bankFull[\"previous\"].value_counts()"
   ]
  },
  {
   "cell_type": "code",
   "execution_count": 9,
   "metadata": {},
   "outputs": [
    {
     "data": {
      "image/png": "[encoded data removed]",
      "text/plain": [
       "<Figure size 432x288 with 1 Axes>"
      ]
     },
     "metadata": {
      "needs_background": "light"
     },
     "output_type": "display_data"
    }
   ],
   "source": [
    "#temp_prev is data for 'previous' != 0\n",
    "temp_prev = bankFull[bankFull[\"previous\"] != 0][\"previous\"]\n",
    "sns.histplot(temp_prev);\n",
    "#TODO poprawic wykres"
   ]
  },
  {
   "cell_type": "code",
   "execution_count": 11,
   "metadata": {},
   "outputs": [
    {
     "data": {
      "text/plain": [
       "<AxesSubplot:xlabel='pdays', ylabel='Count'>"
      ]
     },
     "execution_count": 11,
     "metadata": {},
     "output_type": "execute_result"
    },
    {
     "data": {
      "image/png": "[encoded data removed]",
      "text/plain": [
       "<Figure size 432x288 with 1 Axes>"
      ]
     },
     "metadata": {
      "needs_background": "light"
     },
     "output_type": "display_data"
    }
   ],
   "source": [
    "bankFull[\"pdays\"].value_counts()\n",
    "#temp_pdays is data for 'pdays' != -1\n",
    "temp_pdays = bankFull[bankFull[\"pdays\"] != -1][\"pdays\"]\n",
    "sns.histplot(temp_pdays)"
   ]
  },
  {
   "cell_type": "markdown",
   "metadata": {},
   "source": [
    "New low and high boundaries are calculated for those two values"
   ]
  },
  {
   "cell_type": "code",
   "execution_count": 12,
   "metadata": {},
   "outputs": [
    {
     "name": "stdout",
     "output_type": "stream",
     "text": [
      "Pdays low: -158.0\t pdays high: 618.0\n",
      "Previous low: -3.5\t Previous high: 8.5\n"
     ]
    }
   ],
   "source": [
    "a_d,b_d = low_high_boundary(temp_pdays)\n",
    "a_p,b_p = low_high_boundary(temp_prev)\n",
    "print(f\"Pdays low: {a_d}\\t pdays high: {b_d}\")\n",
    "print(f\"Previous low: {a_p}\\t Previous high: {b_p}\")"
   ]
  },
  {
   "cell_type": "markdown",
   "metadata": {},
   "source": [
    "#### Removing values\n",
    "AS the result we revove standard Interqartial values for all features exept two ('pdays' and ' previous') where we use above values."
   ]
  },
  {
   "cell_type": "code",
   "execution_count": 13,
   "metadata": {},
   "outputs": [],
   "source": [
    "bankFull = bankFull[(bankFull['pdays'] < b_d) & (bankFull['pdays'] > a_d) ]\n",
    "bankFull = bankFull[(bankFull['previous'] < b_p) & (bankFull['previous'] > a_p) ]\n",
    "for col in ['age', 'balance', 'day', 'duration', 'campaign']:\n",
    "    #TODO check less restrictive method\n",
    "    a,b = low_high_boundary(bankFull[col])\n",
    "    bankFull = bankFull[(bankFull[col] < b) & (bankFull[col] > a) ]"
   ]
  },
  {
   "cell_type": "code",
   "execution_count": 14,
   "metadata": {},
   "outputs": [
    {
     "name": "stdout",
     "output_type": "stream",
     "text": [
      "<class 'pandas.core.frame.DataFrame'>\n",
      "Int64Index: 33166 entries, 0 to 45209\n",
      "Data columns (total 17 columns):\n",
      " #   Column     Non-Null Count  Dtype \n",
      "---  ------     --------------  ----- \n",
      " 0   age        33166 non-null  int64 \n",
      " 1   job        33166 non-null  object\n",
      " 2   marital    33166 non-null  object\n",
      " 3   education  33166 non-null  object\n",
      " 4   default    33166 non-null  object\n",
      " 5   balance    33166 non-null  int64 \n",
      " 6   housing    33166 non-null  object\n",
      " 7   loan       33166 non-null  object\n",
      " 8   contact    33166 non-null  object\n",
      " 9   day        33166 non-null  int64 \n",
      " 10  month      33166 non-null  object\n",
      " 11  duration   33166 non-null  int64 \n",
      " 12  campaign   33166 non-null  int64 \n",
      " 13  pdays      33166 non-null  int64 \n",
      " 14  previous   33166 non-null  int64 \n",
      " 15  poutcome   33166 non-null  object\n",
      " 16  y          33166 non-null  object\n",
      "dtypes: int64(7), object(10)\n",
      "memory usage: 4.6+ MB\n"
     ]
    }
   ],
   "source": [
    "bankFull.info()"
   ]
  },
  {
   "cell_type": "markdown",
   "metadata": {},
   "source": [
    "## Categorical features"
   ]
  },
  {
   "cell_type": "markdown",
   "metadata": {},
   "source": [
    "Below we can see analisis for categorical features - list of unique values, staistic and count plots"
   ]
  },
  {
   "cell_type": "code",
   "execution_count": 15,
   "metadata": {},
   "outputs": [
    {
     "name": "stdout",
     "output_type": "stream",
     "text": [
      "job\n",
      "blue-collar      7368\n",
      "management       6632\n",
      "technician       5615\n",
      "admin.           4028\n",
      "services         3201\n",
      "retired          1343\n",
      "self-employed    1126\n",
      "entrepreneur     1094\n",
      "unemployed        940\n",
      "housemaid         895\n",
      "student           737\n",
      "unknown           187\n",
      "Name: job, dtype: int64\n",
      "==============================\n",
      "['management' 'technician' 'entrepreneur' 'blue-collar' 'unknown'\n",
      " 'retired' 'admin.' 'services' 'self-employed' 'unemployed' 'housemaid'\n",
      " 'student']\n",
      "marital\n",
      "married     19714\n",
      "single       9581\n",
      "divorced     3871\n",
      "Name: marital, dtype: int64\n",
      "==============================\n",
      "['married' 'single' 'divorced']\n",
      "education\n",
      "secondary    17573\n",
      "tertiary      9359\n",
      "primary       4933\n",
      "unknown       1301\n",
      "Name: education, dtype: int64\n",
      "==============================\n",
      "['tertiary' 'secondary' 'unknown' 'primary']\n",
      "default\n",
      "no     32515\n",
      "yes      651\n",
      "Name: default, dtype: int64\n",
      "==============================\n",
      "['no' 'yes']\n",
      "housing\n",
      "yes    19018\n",
      "no     14148\n",
      "Name: housing, dtype: int64\n",
      "==============================\n",
      "['yes' 'no']\n",
      "loan\n",
      "no     27492\n",
      "yes     5674\n",
      "Name: loan, dtype: int64\n",
      "==============================\n",
      "['no' 'yes']\n",
      "contact\n",
      "cellular     21417\n",
      "unknown       9978\n",
      "telephone     1771\n",
      "Name: contact, dtype: int64\n",
      "==============================\n",
      "['unknown' 'cellular' 'telephone']\n",
      "month\n",
      "may    10865\n",
      "jul     4986\n",
      "aug     4129\n",
      "jun     3780\n",
      "nov     2679\n",
      "apr     2207\n",
      "feb     1997\n",
      "jan     1187\n",
      "oct      488\n",
      "sep      385\n",
      "mar      327\n",
      "dec      136\n",
      "Name: month, dtype: int64\n",
      "==============================\n",
      "['may' 'jun' 'jul' 'aug' 'oct' 'nov' 'dec' 'jan' 'feb' 'mar' 'apr' 'sep']\n",
      "poutcome\n",
      "unknown    27149\n",
      "failure     3722\n",
      "other       1249\n",
      "success     1046\n",
      "Name: poutcome, dtype: int64\n",
      "==============================\n",
      "['unknown' 'failure' 'other' 'success']\n",
      "y\n",
      "no     30431\n",
      "yes     2735\n",
      "Name: y, dtype: int64\n",
      "==============================\n",
      "['no' 'yes']\n"
     ]
    },
    {
     "data": {
      "image/png": "[encoded data removed]",
      "text/plain": [
       "<Figure size 432x288 with 1 Axes>"
      ]
     },
     "metadata": {
      "needs_background": "light"
     },
     "output_type": "display_data"
    },
    {
     "data": {
      "image/png": "[encoded data removed]",
      "text/plain": [
       "<Figure size 432x288 with 1 Axes>"
      ]
     },
     "metadata": {
      "needs_background": "light"
     },
     "output_type": "display_data"
    },
    {
     "data": {
      "image/png": "[encoded data removed]",
      "text/plain": [
       "<Figure size 432x288 with 1 Axes>"
      ]
     },
     "metadata": {
      "needs_background": "light"
     },
     "output_type": "display_data"
    },
    {
     "data": {
      "image/png": "[encoded data removed]",
      "text/plain": [
       "<Figure size 432x288 with 1 Axes>"
      ]
     },
     "metadata": {
      "needs_background": "light"
     },
     "output_type": "display_data"
    },
    {
     "data": {
      "image/png": "[encoded data removed]",
      "text/plain": [
       "<Figure size 432x288 with 1 Axes>"
      ]
     },
     "metadata": {
      "needs_background": "light"
     },
     "output_type": "display_data"
    },
    {
     "data": {
      "image/png": "[encoded data removed]",
      "text/plain": [
       "<Figure size 432x288 with 1 Axes>"
      ]
     },
     "metadata": {
      "needs_background": "light"
     },
     "output_type": "display_data"
    },
    {
     "data": {
      "image/png": "[encoded data removed]",
      "text/plain": [
       "<Figure size 432x288 with 1 Axes>"
      ]
     },
     "metadata": {
      "needs_background": "light"
     },
     "output_type": "display_data"
    },
    {
     "data": {
      "image/png": "[encoded data removed]",
      "text/plain": [
       "<Figure size 432x288 with 1 Axes>"
      ]
     },
     "metadata": {
      "needs_background": "light"
     },
     "output_type": "display_data"
    },
    {
     "data": {
      "image/png": "[encoded data removed]",
      "text/plain": [
       "<Figure size 432x288 with 1 Axes>"
      ]
     },
     "metadata": {
      "needs_background": "light"
     },
     "output_type": "display_data"
    },
    {
     "data": {
      "image/png": "[encoded data removed]",
      "text/plain": [
       "<Figure size 432x288 with 1 Axes>"
      ]
     },
     "metadata": {
      "needs_background": "light"
     },
     "output_type": "display_data"
    }
   ],
   "source": [
    "cat_columns = [name for name in bankFull.columns if bankFull[name].dtype == \"object\"]\n",
    "for col in cat_columns:\n",
    "        print(col)\n",
    "        print(bankFull[col].value_counts())\n",
    "        print(\"==============================\")\n",
    "        print(bankFull[col].unique())\n",
    "        plt.figure()\n",
    "        sns.countplot(x = col, data=bankFull)\n"
   ]
  },
  {
   "cell_type": "markdown",
   "metadata": {},
   "source": [
    "### Removing columns - feature selection"
   ]
  },
  {
   "cell_type": "markdown",
   "metadata": {},
   "source": [
    "It look like we have data mainly from months from May till August. In first step I do not take this information into further analysis. One should see the full set. It is possible to go back to this data with full set. So I remove them."
   ]
  },
  {
   "cell_type": "code",
   "execution_count": 16,
   "metadata": {},
   "outputs": [],
   "source": [
    "to_remove = [\"day\", \"month\"]\n",
    "bankFull = bankFull.drop(to_remove, axis=1)"
   ]
  },
  {
   "cell_type": "code",
   "execution_count": 17,
   "metadata": {},
   "outputs": [
    {
     "name": "stdout",
     "output_type": "stream",
     "text": [
      "<class 'pandas.core.frame.DataFrame'>\n",
      "RangeIndex: 33166 entries, 0 to 33165\n",
      "Data columns (total 15 columns):\n",
      " #   Column     Non-Null Count  Dtype \n",
      "---  ------     --------------  ----- \n",
      " 0   age        33166 non-null  int64 \n",
      " 1   job        33166 non-null  object\n",
      " 2   marital    33166 non-null  object\n",
      " 3   education  33166 non-null  object\n",
      " 4   default    33166 non-null  object\n",
      " 5   balance    33166 non-null  int64 \n",
      " 6   housing    33166 non-null  object\n",
      " 7   loan       33166 non-null  object\n",
      " 8   contact    33166 non-null  object\n",
      " 9   duration   33166 non-null  int64 \n",
      " 10  campaign   33166 non-null  int64 \n",
      " 11  pdays      33166 non-null  int64 \n",
      " 12  previous   33166 non-null  int64 \n",
      " 13  poutcome   33166 non-null  object\n",
      " 14  y          33166 non-null  object\n",
      "dtypes: int64(6), object(9)\n",
      "memory usage: 3.8+ MB\n"
     ]
    }
   ],
   "source": [
    "bankFull = bankFull.reset_index()\n",
    "bankFull = bankFull.iloc[:,1:]\n",
    "bankFull.info()"
   ]
  },
  {
   "cell_type": "markdown",
   "metadata": {},
   "source": [
    "#### Saving Data"
   ]
  },
  {
   "cell_type": "code",
   "execution_count": 18,
   "metadata": {},
   "outputs": [],
   "source": [
    "#saving data in pickle form\n",
    "bankFull.to_pickle(\"EDA1.pkl\")\n",
    "#bankFull.to_csv(\"EDA1.csv\")"
   ]
  },
  {
   "cell_type": "code",
   "execution_count": null,
   "metadata": {},
   "outputs": [],
   "source": []
  }
 ],
 "metadata": {
  "kernelspec": {
   "display_name": "Python 3",
   "language": "python",
   "name": "python3"
  },
  "language_info": {
   "codemirror_mode": {
    "name": "ipython",
    "version": 3
   },
   "file_extension": ".py",
   "mimetype": "text/x-python",
   "name": "python",
   "nbconvert_exporter": "python",
   "pygments_lexer": "ipython3",
   "version": "3.8.5"
  }
 },
 "nbformat": 4,
 "nbformat_minor": 4
}
