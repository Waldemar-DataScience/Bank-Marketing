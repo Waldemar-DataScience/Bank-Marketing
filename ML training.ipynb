{
 "cells": [
  {
   "cell_type": "markdown",
   "metadata": {},
   "source": [
    "### Introduction\n",
    "In this file I use the data prepared in the EDA1 and EDA2 notebooks for perform ML classification."
   ]
  },
  {
   "cell_type": "code",
   "execution_count": 1,
   "metadata": {},
   "outputs": [],
   "source": [
    "import pandas as pd\n",
    "import matplotlib.pyplot as plt\n",
    "import seaborn as sns\n",
    "%matplotlib inline"
   ]
  },
  {
   "cell_type": "code",
   "execution_count": 2,
   "metadata": {},
   "outputs": [],
   "source": [
    "from sklearn.model_selection import train_test_split\n",
    "from sklearn.metrics import accuracy_score\n",
    "from sklearn.metrics import classification_report\n",
    "from sklearn.metrics import confusion_matrix"
   ]
  },
  {
   "cell_type": "code",
   "execution_count": 3,
   "metadata": {},
   "outputs": [],
   "source": [
    "def showResults(prediction,y_test):\n",
    "    \"\"\"\n",
    "    prints accurasy score, confusion matrix and classification report\n",
    "    \"\"\"\n",
    "    print(\"Accuraccy score: {:.2f}% \".format(100 * accuracy_score(prediction, y_test)))\n",
    "    print(\"\\n Confusion matrix: \\n\",confusion_matrix(prediction, y_test))\n",
    "    print(\"\\n classification report: \\n\",classification_report(prediction, y_test))"
   ]
  },
  {
   "cell_type": "code",
   "execution_count": 4,
   "metadata": {},
   "outputs": [],
   "source": [
    "df = pd.read_pickle(\"EDA2.pkl\")"
   ]
  },
  {
   "cell_type": "markdown",
   "metadata": {},
   "source": [
    "# Machine Learning - Classification Algorithms\n",
    "\n",
    "I perform training using different ML methods:\n",
    "1. K nearest neighbours\n",
    "2. Naive Bayes\n",
    "3. Support Vector Machine \n",
    "4. Logistic Regression\n",
    "5. Decision Tree\n",
    "6. Random Forest\n",
    "\n",
    "\n",
    "For each algorithm some optimisation is done.\n",
    "\n",
    "Then the comparison of accuracy is done.\n",
    "\n",
    "This is the first version of the module more advanced analysis will be gradually added.\n",
    "\n",
    "\n"
   ]
  },
  {
   "cell_type": "code",
   "execution_count": 5,
   "metadata": {},
   "outputs": [
    {
     "data": {
      "text/html": [
       "<div>\n",
       "<style scoped>\n",
       "    .dataframe tbody tr th:only-of-type {\n",
       "        vertical-align: middle;\n",
       "    }\n",
       "\n",
       "    .dataframe tbody tr th {\n",
       "        vertical-align: top;\n",
       "    }\n",
       "\n",
       "    .dataframe thead th {\n",
       "        text-align: right;\n",
       "    }\n",
       "</style>\n",
       "<table border=\"1\" class=\"dataframe\">\n",
       "  <thead>\n",
       "    <tr style=\"text-align: right;\">\n",
       "      <th></th>\n",
       "      <th>age</th>\n",
       "      <th>balance</th>\n",
       "      <th>duration</th>\n",
       "      <th>campaign</th>\n",
       "      <th>pdays</th>\n",
       "      <th>previous</th>\n",
       "      <th>job_is__admin.</th>\n",
       "      <th>job_is__blue-collar</th>\n",
       "      <th>job_is__entrepreneur</th>\n",
       "      <th>job_is__housemaid</th>\n",
       "      <th>...</th>\n",
       "      <th>loan_is__no</th>\n",
       "      <th>loan_is__yes</th>\n",
       "      <th>contact_is__cellular</th>\n",
       "      <th>contact_is__telephone</th>\n",
       "      <th>contact_is__unknown</th>\n",
       "      <th>poutcome_is__failure</th>\n",
       "      <th>poutcome_is__other</th>\n",
       "      <th>poutcome_is__success</th>\n",
       "      <th>poutcome_is__unknown</th>\n",
       "      <th>y</th>\n",
       "    </tr>\n",
       "  </thead>\n",
       "  <tbody>\n",
       "    <tr>\n",
       "      <th>14643</th>\n",
       "      <td>-0.627668</td>\n",
       "      <td>-0.683922</td>\n",
       "      <td>0.483005</td>\n",
       "      <td>-0.007492</td>\n",
       "      <td>-0.416056</td>\n",
       "      <td>-0.375262</td>\n",
       "      <td>0</td>\n",
       "      <td>0</td>\n",
       "      <td>0</td>\n",
       "      <td>0</td>\n",
       "      <td>...</td>\n",
       "      <td>1</td>\n",
       "      <td>0</td>\n",
       "      <td>1</td>\n",
       "      <td>0</td>\n",
       "      <td>0</td>\n",
       "      <td>0</td>\n",
       "      <td>0</td>\n",
       "      <td>0</td>\n",
       "      <td>1</td>\n",
       "      <td>0</td>\n",
       "    </tr>\n",
       "    <tr>\n",
       "      <th>12224</th>\n",
       "      <td>-0.426419</td>\n",
       "      <td>1.237179</td>\n",
       "      <td>-0.292573</td>\n",
       "      <td>-0.007492</td>\n",
       "      <td>-0.416056</td>\n",
       "      <td>-0.375262</td>\n",
       "      <td>0</td>\n",
       "      <td>1</td>\n",
       "      <td>0</td>\n",
       "      <td>0</td>\n",
       "      <td>...</td>\n",
       "      <td>0</td>\n",
       "      <td>1</td>\n",
       "      <td>1</td>\n",
       "      <td>0</td>\n",
       "      <td>0</td>\n",
       "      <td>0</td>\n",
       "      <td>0</td>\n",
       "      <td>0</td>\n",
       "      <td>1</td>\n",
       "      <td>0</td>\n",
       "    </tr>\n",
       "    <tr>\n",
       "      <th>29504</th>\n",
       "      <td>-0.225171</td>\n",
       "      <td>0.263371</td>\n",
       "      <td>0.330789</td>\n",
       "      <td>-0.882404</td>\n",
       "      <td>-0.416056</td>\n",
       "      <td>-0.375262</td>\n",
       "      <td>0</td>\n",
       "      <td>0</td>\n",
       "      <td>0</td>\n",
       "      <td>0</td>\n",
       "      <td>...</td>\n",
       "      <td>1</td>\n",
       "      <td>0</td>\n",
       "      <td>1</td>\n",
       "      <td>0</td>\n",
       "      <td>0</td>\n",
       "      <td>0</td>\n",
       "      <td>0</td>\n",
       "      <td>0</td>\n",
       "      <td>1</td>\n",
       "      <td>0</td>\n",
       "    </tr>\n",
       "    <tr>\n",
       "      <th>22057</th>\n",
       "      <td>0.982319</td>\n",
       "      <td>0.160929</td>\n",
       "      <td>0.475756</td>\n",
       "      <td>0.867420</td>\n",
       "      <td>-0.416056</td>\n",
       "      <td>-0.375262</td>\n",
       "      <td>1</td>\n",
       "      <td>0</td>\n",
       "      <td>0</td>\n",
       "      <td>0</td>\n",
       "      <td>...</td>\n",
       "      <td>0</td>\n",
       "      <td>1</td>\n",
       "      <td>1</td>\n",
       "      <td>0</td>\n",
       "      <td>0</td>\n",
       "      <td>0</td>\n",
       "      <td>0</td>\n",
       "      <td>0</td>\n",
       "      <td>1</td>\n",
       "      <td>0</td>\n",
       "    </tr>\n",
       "    <tr>\n",
       "      <th>8590</th>\n",
       "      <td>-0.426419</td>\n",
       "      <td>2.084440</td>\n",
       "      <td>0.149579</td>\n",
       "      <td>-0.007492</td>\n",
       "      <td>-0.416056</td>\n",
       "      <td>-0.375262</td>\n",
       "      <td>0</td>\n",
       "      <td>1</td>\n",
       "      <td>0</td>\n",
       "      <td>0</td>\n",
       "      <td>...</td>\n",
       "      <td>1</td>\n",
       "      <td>0</td>\n",
       "      <td>0</td>\n",
       "      <td>0</td>\n",
       "      <td>1</td>\n",
       "      <td>0</td>\n",
       "      <td>0</td>\n",
       "      <td>0</td>\n",
       "      <td>1</td>\n",
       "      <td>0</td>\n",
       "    </tr>\n",
       "  </tbody>\n",
       "</table>\n",
       "<p>5 rows × 39 columns</p>\n",
       "</div>"
      ],
      "text/plain": [
       "            age   balance  duration  campaign     pdays  previous  \\\n",
       "14643 -0.627668 -0.683922  0.483005 -0.007492 -0.416056 -0.375262   \n",
       "12224 -0.426419  1.237179 -0.292573 -0.007492 -0.416056 -0.375262   \n",
       "29504 -0.225171  0.263371  0.330789 -0.882404 -0.416056 -0.375262   \n",
       "22057  0.982319  0.160929  0.475756  0.867420 -0.416056 -0.375262   \n",
       "8590  -0.426419  2.084440  0.149579 -0.007492 -0.416056 -0.375262   \n",
       "\n",
       "       job_is__admin.  job_is__blue-collar  job_is__entrepreneur  \\\n",
       "14643               0                    0                     0   \n",
       "12224               0                    1                     0   \n",
       "29504               0                    0                     0   \n",
       "22057               1                    0                     0   \n",
       "8590                0                    1                     0   \n",
       "\n",
       "       job_is__housemaid  ...  loan_is__no  loan_is__yes  \\\n",
       "14643                  0  ...            1             0   \n",
       "12224                  0  ...            0             1   \n",
       "29504                  0  ...            1             0   \n",
       "22057                  0  ...            0             1   \n",
       "8590                   0  ...            1             0   \n",
       "\n",
       "       contact_is__cellular  contact_is__telephone  contact_is__unknown  \\\n",
       "14643                     1                      0                    0   \n",
       "12224                     1                      0                    0   \n",
       "29504                     1                      0                    0   \n",
       "22057                     1                      0                    0   \n",
       "8590                      0                      0                    1   \n",
       "\n",
       "       poutcome_is__failure  poutcome_is__other  poutcome_is__success  \\\n",
       "14643                     0                   0                     0   \n",
       "12224                     0                   0                     0   \n",
       "29504                     0                   0                     0   \n",
       "22057                     0                   0                     0   \n",
       "8590                      0                   0                     0   \n",
       "\n",
       "       poutcome_is__unknown  y  \n",
       "14643                     1  0  \n",
       "12224                     1  0  \n",
       "29504                     1  0  \n",
       "22057                     1  0  \n",
       "8590                      1  0  \n",
       "\n",
       "[5 rows x 39 columns]"
      ]
     },
     "execution_count": 5,
     "metadata": {},
     "output_type": "execute_result"
    }
   ],
   "source": [
    "df.sample(5)"
   ]
  },
  {
   "cell_type": "markdown",
   "metadata": {},
   "source": [
    "### Data splitting\n",
    "\n",
    "Creating training and testing sets.\n"
   ]
  },
  {
   "cell_type": "code",
   "execution_count": 6,
   "metadata": {},
   "outputs": [],
   "source": [
    "X = df.iloc[:,:-1]\n",
    "y = df[\"y\"]\n",
    "X_train, X_test, y_train, y_test = train_test_split(X, y, test_size=0.33, random_state=42)\n",
    "\n",
    "\n"
   ]
  },
  {
   "cell_type": "code",
   "execution_count": 7,
   "metadata": {},
   "outputs": [],
   "source": [
    "comparison = pd.DataFrame(columns = [\"Name\", \"Accuracy\"])"
   ]
  },
  {
   "cell_type": "markdown",
   "metadata": {},
   "source": [
    "## K Nearest Neighbours classification"
   ]
  },
  {
   "cell_type": "code",
   "execution_count": 8,
   "metadata": {},
   "outputs": [],
   "source": [
    "from sklearn.neighbors import KNeighborsClassifier\n",
    "\n",
    "classifier = KNeighborsClassifier(n_neighbors=6)\n",
    "classifier.fit(X_train, y_train);"
   ]
  },
  {
   "cell_type": "code",
   "execution_count": 9,
   "metadata": {},
   "outputs": [
    {
     "name": "stdout",
     "output_type": "stream",
     "text": [
      "Accuraccy score: 92.16% \n",
      "\n",
      " Confusion matrix: \n",
      " [[9907  754]\n",
      " [ 104  180]]\n",
      "\n",
      " classification report: \n",
      "               precision    recall  f1-score   support\n",
      "\n",
      "           0       0.99      0.93      0.96     10661\n",
      "           1       0.19      0.63      0.30       284\n",
      "\n",
      "    accuracy                           0.92     10945\n",
      "   macro avg       0.59      0.78      0.63     10945\n",
      "weighted avg       0.97      0.92      0.94     10945\n",
      "\n"
     ]
    }
   ],
   "source": [
    "prediction = classifier.predict(X_test)\n",
    "showResults(prediction,y_test)"
   ]
  },
  {
   "cell_type": "code",
   "execution_count": 11,
   "metadata": {},
   "outputs": [
    {
     "name": "stdout",
     "output_type": "stream",
     "text": [
      "Accuracy for train set: 93.28%, for test set: 92.16%, difference: 1.12\n"
     ]
    }
   ],
   "source": [
    "a,b = classifier.score(X_train,y_train), classifier.score(X_test,y_test)\n",
    "print(f\"Accuracy for train set: {100*a:.2f}%, for test set: {100*b:.2f}%, difference: {100*(a-b):.2f}\")"
   ]
  },
  {
   "cell_type": "markdown",
   "metadata": {},
   "source": [
    "### Optimisation - the elbow method"
   ]
  },
  {
   "cell_type": "code",
   "execution_count": 12,
   "metadata": {},
   "outputs": [],
   "source": [
    "data = []\n",
    "for i in range(1,41):\n",
    "    classifier = KNeighborsClassifier(n_neighbors=i)\n",
    "    classifier.fit(X_train, y_train)\n",
    "    error = 1 - accuracy_score(classifier.predict(X_test), y_test)\n",
    "    data.append([i,error])\n"
   ]
  },
  {
   "cell_type": "code",
   "execution_count": 13,
   "metadata": {},
   "outputs": [
    {
     "data": {
      "text/plain": [
       "[<matplotlib.lines.Line2D at 0x23784b24700>]"
      ]
     },
     "execution_count": 13,
     "metadata": {},
     "output_type": "execute_result"
    },
    {
     "data": {
      "image/png": "[encoded data removed]",
      "text/plain": [
       "<Figure size 432x288 with 1 Axes>"
      ]
     },
     "metadata": {
      "needs_background": "light"
     },
     "output_type": "display_data"
    }
   ],
   "source": [
    "x = [a[0] for a in data]\n",
    "y = [a[1] for a in data]\n",
    "plt.plot(x,y,color='blue')"
   ]
  },
  {
   "cell_type": "code",
   "execution_count": 14,
   "metadata": {},
   "outputs": [
    {
     "name": "stdout",
     "output_type": "stream",
     "text": [
      "Accuraccy score: 92.27% \n",
      "\n",
      " Confusion matrix: \n",
      " [[9928  763]\n",
      " [  83  171]]\n",
      "\n",
      " classification report: \n",
      "               precision    recall  f1-score   support\n",
      "\n",
      "           0       0.99      0.93      0.96     10691\n",
      "           1       0.18      0.67      0.29       254\n",
      "\n",
      "    accuracy                           0.92     10945\n",
      "   macro avg       0.59      0.80      0.62     10945\n",
      "weighted avg       0.97      0.92      0.94     10945\n",
      "\n"
     ]
    }
   ],
   "source": [
    "# we chose cut off on the level 10\n",
    "classifier = KNeighborsClassifier(n_neighbors=10)\n",
    "classifier.fit(X_train, y_train)\n",
    "prediction = classifier.predict(X_test)\n",
    "showResults(prediction,y_test)\n"
   ]
  },
  {
   "cell_type": "code",
   "execution_count": 15,
   "metadata": {},
   "outputs": [],
   "source": [
    "comparison = comparison.append({\"Name\" : \"KNN\", \"Accuracy\" : accuracy_score(prediction, y_test)},\n",
    "                               ignore_index = True)"
   ]
  },
  {
   "cell_type": "markdown",
   "metadata": {},
   "source": [
    "## Naive Bayes"
   ]
  },
  {
   "cell_type": "code",
   "execution_count": 16,
   "metadata": {},
   "outputs": [],
   "source": [
    "from sklearn.naive_bayes import GaussianNB\n",
    "\n",
    "classifier = GaussianNB()\n",
    "classifier.fit(X_train, y_train);"
   ]
  },
  {
   "cell_type": "code",
   "execution_count": 17,
   "metadata": {},
   "outputs": [
    {
     "name": "stdout",
     "output_type": "stream",
     "text": [
      "Accuraccy score: 82.45% \n",
      "\n",
      " Confusion matrix: \n",
      " [[8472  382]\n",
      " [1539  552]]\n",
      "\n",
      " classification report: \n",
      "               precision    recall  f1-score   support\n",
      "\n",
      "           0       0.85      0.96      0.90      8854\n",
      "           1       0.59      0.26      0.36      2091\n",
      "\n",
      "    accuracy                           0.82     10945\n",
      "   macro avg       0.72      0.61      0.63     10945\n",
      "weighted avg       0.80      0.82      0.80     10945\n",
      "\n"
     ]
    }
   ],
   "source": [
    "prediction = classifier.predict(X_test)\n",
    "showResults(prediction,y_test)"
   ]
  },
  {
   "cell_type": "code",
   "execution_count": 18,
   "metadata": {},
   "outputs": [],
   "source": [
    "comparison = comparison.append({\"Name\" : \"Naive B\", \"Accuracy\" : accuracy_score(prediction, y_test)},\n",
    "                               ignore_index = True)"
   ]
  },
  {
   "cell_type": "markdown",
   "metadata": {},
   "source": [
    "### SVM\n"
   ]
  },
  {
   "cell_type": "code",
   "execution_count": 19,
   "metadata": {},
   "outputs": [
    {
     "data": {
      "text/plain": [
       "SVC(kernel='linear')"
      ]
     },
     "execution_count": 19,
     "metadata": {},
     "output_type": "execute_result"
    }
   ],
   "source": [
    "from sklearn.svm import SVC\n",
    "\n",
    "classifier = SVC(kernel=\"linear\")\n",
    "classifier.fit(X_train, y_train)"
   ]
  },
  {
   "cell_type": "code",
   "execution_count": 20,
   "metadata": {},
   "outputs": [
    {
     "name": "stdout",
     "output_type": "stream",
     "text": [
      "Accuraccy score: 92.51% \n",
      "\n",
      " Confusion matrix: \n",
      " [[9888  697]\n",
      " [ 123  237]]\n",
      "\n",
      " classification report: \n",
      "               precision    recall  f1-score   support\n",
      "\n",
      "           0       0.99      0.93      0.96     10585\n",
      "           1       0.25      0.66      0.37       360\n",
      "\n",
      "    accuracy                           0.93     10945\n",
      "   macro avg       0.62      0.80      0.66     10945\n",
      "weighted avg       0.96      0.93      0.94     10945\n",
      "\n"
     ]
    }
   ],
   "source": [
    "prediction = classifier.predict(X_test)\n",
    "showResults(prediction,y_test)"
   ]
  },
  {
   "cell_type": "code",
   "execution_count": 21,
   "metadata": {},
   "outputs": [],
   "source": [
    "comparison = comparison.append({\"Name\" : \"SVM\", \"Accuracy\" : accuracy_score(prediction, y_test)}, \n",
    "                               ignore_index = True)"
   ]
  },
  {
   "cell_type": "markdown",
   "metadata": {},
   "source": [
    "### Logistic Regression"
   ]
  },
  {
   "cell_type": "code",
   "execution_count": 22,
   "metadata": {},
   "outputs": [],
   "source": [
    "from sklearn.linear_model import LogisticRegression"
   ]
  },
  {
   "cell_type": "code",
   "execution_count": 23,
   "metadata": {},
   "outputs": [
    {
     "data": {
      "text/plain": [
       "LogisticRegression(max_iter=200)"
      ]
     },
     "execution_count": 23,
     "metadata": {},
     "output_type": "execute_result"
    }
   ],
   "source": [
    "lr = LogisticRegression(max_iter=200)\n",
    "lr.fit(X_train,y_train)"
   ]
  },
  {
   "cell_type": "code",
   "execution_count": 24,
   "metadata": {},
   "outputs": [],
   "source": [
    "accuracy = lr.score(X_test,y_test)"
   ]
  },
  {
   "cell_type": "code",
   "execution_count": 25,
   "metadata": {},
   "outputs": [],
   "source": [
    "comparison = comparison.append({\"Name\" : \"Log Reg\", \"Accuracy\" : accuracy}, ignore_index = True)"
   ]
  },
  {
   "cell_type": "markdown",
   "metadata": {},
   "source": [
    "## Decision Tree"
   ]
  },
  {
   "cell_type": "code",
   "execution_count": 26,
   "metadata": {},
   "outputs": [],
   "source": [
    "from sklearn.tree import DecisionTreeClassifier"
   ]
  },
  {
   "cell_type": "code",
   "execution_count": 27,
   "metadata": {},
   "outputs": [
    {
     "data": {
      "text/plain": [
       "DecisionTreeClassifier(max_depth=3)"
      ]
     },
     "execution_count": 27,
     "metadata": {},
     "output_type": "execute_result"
    }
   ],
   "source": [
    "dt = DecisionTreeClassifier(max_depth=3)\n",
    "dt.fit(X_train,y_train)"
   ]
  },
  {
   "cell_type": "code",
   "execution_count": 28,
   "metadata": {},
   "outputs": [],
   "source": [
    "accuracy = dt.score(X_test,y_test)"
   ]
  },
  {
   "cell_type": "code",
   "execution_count": 29,
   "metadata": {},
   "outputs": [],
   "source": [
    "comparison = comparison.append({\"Name\" : \"Dec Tree\", \"Accuracy\" : accuracy}, ignore_index = True)"
   ]
  },
  {
   "cell_type": "markdown",
   "metadata": {},
   "source": [
    "## Random Forrest"
   ]
  },
  {
   "cell_type": "code",
   "execution_count": 30,
   "metadata": {},
   "outputs": [],
   "source": [
    "from sklearn.ensemble import RandomForestClassifier"
   ]
  },
  {
   "cell_type": "code",
   "execution_count": 31,
   "metadata": {},
   "outputs": [
    {
     "data": {
      "text/plain": [
       "RandomForestClassifier()"
      ]
     },
     "execution_count": 31,
     "metadata": {},
     "output_type": "execute_result"
    }
   ],
   "source": [
    "rf = RandomForestClassifier()\n",
    "rf.fit(X_train,y_train)"
   ]
  },
  {
   "cell_type": "code",
   "execution_count": 32,
   "metadata": {},
   "outputs": [],
   "source": [
    "accuracy = rf.score(X_test,y_test)"
   ]
  },
  {
   "cell_type": "code",
   "execution_count": 33,
   "metadata": {},
   "outputs": [
    {
     "name": "stdout",
     "output_type": "stream",
     "text": [
      "Accuraccy score: 92.75% \n",
      "\n",
      " Confusion matrix: \n",
      " [[9878  661]\n",
      " [ 133  273]]\n",
      "\n",
      " classification report: \n",
      "               precision    recall  f1-score   support\n",
      "\n",
      "           0       0.99      0.94      0.96     10539\n",
      "           1       0.29      0.67      0.41       406\n",
      "\n",
      "    accuracy                           0.93     10945\n",
      "   macro avg       0.64      0.80      0.68     10945\n",
      "weighted avg       0.96      0.93      0.94     10945\n",
      "\n"
     ]
    }
   ],
   "source": [
    "prediction = rf.predict(X_test)\n",
    "showResults(prediction,y_test)"
   ]
  },
  {
   "cell_type": "code",
   "execution_count": 34,
   "metadata": {},
   "outputs": [],
   "source": [
    "comparison = comparison.append({\"Name\" : \"Rand Forr\", \"Accuracy\" : accuracy}, ignore_index = True)"
   ]
  },
  {
   "cell_type": "markdown",
   "metadata": {},
   "source": [
    "## Comparison"
   ]
  },
  {
   "cell_type": "code",
   "execution_count": 35,
   "metadata": {},
   "outputs": [
    {
     "data": {
      "text/html": [
       "<div>\n",
       "<style scoped>\n",
       "    .dataframe tbody tr th:only-of-type {\n",
       "        vertical-align: middle;\n",
       "    }\n",
       "\n",
       "    .dataframe tbody tr th {\n",
       "        vertical-align: top;\n",
       "    }\n",
       "\n",
       "    .dataframe thead th {\n",
       "        text-align: right;\n",
       "    }\n",
       "</style>\n",
       "<table border=\"1\" class=\"dataframe\">\n",
       "  <thead>\n",
       "    <tr style=\"text-align: right;\">\n",
       "      <th></th>\n",
       "      <th>Name</th>\n",
       "      <th>Accuracy</th>\n",
       "    </tr>\n",
       "  </thead>\n",
       "  <tbody>\n",
       "    <tr>\n",
       "      <th>4</th>\n",
       "      <td>Dec Tree</td>\n",
       "      <td>0.927455</td>\n",
       "    </tr>\n",
       "    <tr>\n",
       "      <th>5</th>\n",
       "      <td>Rand Forr</td>\n",
       "      <td>0.927455</td>\n",
       "    </tr>\n",
       "    <tr>\n",
       "      <th>3</th>\n",
       "      <td>Log Reg</td>\n",
       "      <td>0.926542</td>\n",
       "    </tr>\n",
       "    <tr>\n",
       "      <th>2</th>\n",
       "      <td>SVM</td>\n",
       "      <td>0.925080</td>\n",
       "    </tr>\n",
       "    <tr>\n",
       "      <th>0</th>\n",
       "      <td>KNN</td>\n",
       "      <td>0.922704</td>\n",
       "    </tr>\n",
       "    <tr>\n",
       "      <th>1</th>\n",
       "      <td>Naive B</td>\n",
       "      <td>0.824486</td>\n",
       "    </tr>\n",
       "  </tbody>\n",
       "</table>\n",
       "</div>"
      ],
      "text/plain": [
       "        Name  Accuracy\n",
       "4   Dec Tree  0.927455\n",
       "5  Rand Forr  0.927455\n",
       "3    Log Reg  0.926542\n",
       "2        SVM  0.925080\n",
       "0        KNN  0.922704\n",
       "1    Naive B  0.824486"
      ]
     },
     "execution_count": 35,
     "metadata": {},
     "output_type": "execute_result"
    }
   ],
   "source": [
    "comparison.sort_values(by=[\"Accuracy\"], ascending= False)"
   ]
  },
  {
   "cell_type": "code",
   "execution_count": null,
   "metadata": {},
   "outputs": [],
   "source": []
  }
 ],
 "metadata": {
  "kernelspec": {
   "display_name": "Python 3",
   "language": "python",
   "name": "python3"
  },
  "language_info": {
   "codemirror_mode": {
    "name": "ipython",
    "version": 3
   },
   "file_extension": ".py",
   "mimetype": "text/x-python",
   "name": "python",
   "nbconvert_exporter": "python",
   "pygments_lexer": "ipython3",
   "version": "3.8.5"
  }
 },
 "nbformat": 4,
 "nbformat_minor": 4
}
