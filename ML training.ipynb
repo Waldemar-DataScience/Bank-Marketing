{
 "cells": [
  {
   "cell_type": "markdown",
   "metadata": {},
   "source": [
    "### Introduction\n",
    "In this file I use the data prepared in the EDA1 and EDA2 notebooks for perform ML classification."
   ]
  },
  {
   "cell_type": "code",
   "execution_count": 1,
   "metadata": {},
   "outputs": [],
   "source": [
    "import pandas as pd\n",
    "import matplotlib.pyplot as plt\n",
    "import seaborn as sns\n",
    "%matplotlib inline"
   ]
  },
  {
   "cell_type": "code",
   "execution_count": 2,
   "metadata": {},
   "outputs": [],
   "source": [
    "from sklearn.model_selection import train_test_split\n",
    "from sklearn.metrics import accuracy_score\n",
    "from sklearn.metrics import classification_report\n",
    "from sklearn.metrics import confusion_matrix"
   ]
  },
  {
   "cell_type": "code",
   "execution_count": 3,
   "metadata": {},
   "outputs": [],
   "source": [
    "def showResults(prediction,y_test):\n",
    "    \"\"\"\n",
    "    prints accurasy score, confusion matrix and classification report\n",
    "    \"\"\"\n",
    "    print(\"Accuraccy score: {:.2f}% \".format(100 * accuracy_score(prediction, y_test)))\n",
    "    print(\"\\n Confusion matrix: \\n\",confusion_matrix(prediction, y_test))\n",
    "    print(\"\\n classification report: \\n\",classification_report(prediction, y_test))"
   ]
  },
  {
   "cell_type": "code",
   "execution_count": 4,
   "metadata": {},
   "outputs": [],
   "source": [
    "df = pd.read_pickle(\"EDA2.pkl\")"
   ]
  },
  {
   "cell_type": "markdown",
   "metadata": {},
   "source": [
    "# Machine Learning - Classification Algorithms\n",
    "\n",
    "I perform training using different ML methods:\n",
    "1. K nearest neighbours\n",
    "2. Naive Bayes\n",
    "3. Support Vector Machine \n",
    "4. Logistic Regression\n",
    "5. Decision Tree\n",
    "6. Random Forest\n",
    "\n",
    "\n",
    "For each algorithm some optimisation is done.\n",
    "\n",
    "Then the comparison of accuracy is done.\n",
    "\n",
    "This is the first version of the module more advanced analysis will be gradually added.\n",
    "\n",
    "\n"
   ]
  },
  {
   "cell_type": "code",
   "execution_count": 5,
   "metadata": {},
   "outputs": [
    {
     "data": {
      "text/html": [
       "<div>\n",
       "<style scoped>\n",
       "    .dataframe tbody tr th:only-of-type {\n",
       "        vertical-align: middle;\n",
       "    }\n",
       "\n",
       "    .dataframe tbody tr th {\n",
       "        vertical-align: top;\n",
       "    }\n",
       "\n",
       "    .dataframe thead th {\n",
       "        text-align: right;\n",
       "    }\n",
       "</style>\n",
       "<table border=\"1\" class=\"dataframe\">\n",
       "  <thead>\n",
       "    <tr style=\"text-align: right;\">\n",
       "      <th></th>\n",
       "      <th>age</th>\n",
       "      <th>balance</th>\n",
       "      <th>duration</th>\n",
       "      <th>campaign</th>\n",
       "      <th>pdays</th>\n",
       "      <th>previous</th>\n",
       "      <th>job_is__admin.</th>\n",
       "      <th>job_is__blue-collar</th>\n",
       "      <th>job_is__entrepreneur</th>\n",
       "      <th>job_is__housemaid</th>\n",
       "      <th>...</th>\n",
       "      <th>loan_is__no</th>\n",
       "      <th>loan_is__yes</th>\n",
       "      <th>contact_is__cellular</th>\n",
       "      <th>contact_is__telephone</th>\n",
       "      <th>contact_is__unknown</th>\n",
       "      <th>poutcome_is__failure</th>\n",
       "      <th>poutcome_is__other</th>\n",
       "      <th>poutcome_is__success</th>\n",
       "      <th>poutcome_is__unknown</th>\n",
       "      <th>y</th>\n",
       "    </tr>\n",
       "  </thead>\n",
       "  <tbody>\n",
       "    <tr>\n",
       "      <th>10904</th>\n",
       "      <td>0.881694</td>\n",
       "      <td>-0.756234</td>\n",
       "      <td>-0.756470</td>\n",
       "      <td>-0.007492</td>\n",
       "      <td>-0.416056</td>\n",
       "      <td>-0.375262</td>\n",
       "      <td>0</td>\n",
       "      <td>1</td>\n",
       "      <td>0</td>\n",
       "      <td>0</td>\n",
       "      <td>...</td>\n",
       "      <td>1</td>\n",
       "      <td>0</td>\n",
       "      <td>1</td>\n",
       "      <td>0</td>\n",
       "      <td>0</td>\n",
       "      <td>0</td>\n",
       "      <td>0</td>\n",
       "      <td>0</td>\n",
       "      <td>1</td>\n",
       "      <td>0</td>\n",
       "    </tr>\n",
       "    <tr>\n",
       "      <th>28150</th>\n",
       "      <td>-0.426419</td>\n",
       "      <td>-0.071676</td>\n",
       "      <td>-0.488280</td>\n",
       "      <td>0.867420</td>\n",
       "      <td>3.251742</td>\n",
       "      <td>1.281214</td>\n",
       "      <td>0</td>\n",
       "      <td>0</td>\n",
       "      <td>0</td>\n",
       "      <td>0</td>\n",
       "      <td>...</td>\n",
       "      <td>1</td>\n",
       "      <td>0</td>\n",
       "      <td>1</td>\n",
       "      <td>0</td>\n",
       "      <td>0</td>\n",
       "      <td>1</td>\n",
       "      <td>0</td>\n",
       "      <td>0</td>\n",
       "      <td>0</td>\n",
       "      <td>0</td>\n",
       "    </tr>\n",
       "    <tr>\n",
       "      <th>4832</th>\n",
       "      <td>-1.734533</td>\n",
       "      <td>-1.012943</td>\n",
       "      <td>-0.872445</td>\n",
       "      <td>-0.007492</td>\n",
       "      <td>-0.416056</td>\n",
       "      <td>-0.375262</td>\n",
       "      <td>0</td>\n",
       "      <td>1</td>\n",
       "      <td>0</td>\n",
       "      <td>0</td>\n",
       "      <td>...</td>\n",
       "      <td>0</td>\n",
       "      <td>1</td>\n",
       "      <td>0</td>\n",
       "      <td>0</td>\n",
       "      <td>1</td>\n",
       "      <td>0</td>\n",
       "      <td>0</td>\n",
       "      <td>0</td>\n",
       "      <td>1</td>\n",
       "      <td>0</td>\n",
       "    </tr>\n",
       "    <tr>\n",
       "      <th>26003</th>\n",
       "      <td>-0.627668</td>\n",
       "      <td>-0.282588</td>\n",
       "      <td>-0.241834</td>\n",
       "      <td>-0.882404</td>\n",
       "      <td>2.538280</td>\n",
       "      <td>2.109452</td>\n",
       "      <td>0</td>\n",
       "      <td>0</td>\n",
       "      <td>1</td>\n",
       "      <td>0</td>\n",
       "      <td>...</td>\n",
       "      <td>1</td>\n",
       "      <td>0</td>\n",
       "      <td>1</td>\n",
       "      <td>0</td>\n",
       "      <td>0</td>\n",
       "      <td>1</td>\n",
       "      <td>0</td>\n",
       "      <td>0</td>\n",
       "      <td>0</td>\n",
       "      <td>0</td>\n",
       "    </tr>\n",
       "    <tr>\n",
       "      <th>27652</th>\n",
       "      <td>-0.527043</td>\n",
       "      <td>0.101874</td>\n",
       "      <td>0.345285</td>\n",
       "      <td>-0.007492</td>\n",
       "      <td>2.246866</td>\n",
       "      <td>3.765927</td>\n",
       "      <td>0</td>\n",
       "      <td>0</td>\n",
       "      <td>0</td>\n",
       "      <td>0</td>\n",
       "      <td>...</td>\n",
       "      <td>0</td>\n",
       "      <td>1</td>\n",
       "      <td>1</td>\n",
       "      <td>0</td>\n",
       "      <td>0</td>\n",
       "      <td>1</td>\n",
       "      <td>0</td>\n",
       "      <td>0</td>\n",
       "      <td>0</td>\n",
       "      <td>0</td>\n",
       "    </tr>\n",
       "  </tbody>\n",
       "</table>\n",
       "<p>5 rows × 39 columns</p>\n",
       "</div>"
      ],
      "text/plain": [
       "            age   balance  duration  campaign     pdays  previous  \\\n",
       "10904  0.881694 -0.756234 -0.756470 -0.007492 -0.416056 -0.375262   \n",
       "28150 -0.426419 -0.071676 -0.488280  0.867420  3.251742  1.281214   \n",
       "4832  -1.734533 -1.012943 -0.872445 -0.007492 -0.416056 -0.375262   \n",
       "26003 -0.627668 -0.282588 -0.241834 -0.882404  2.538280  2.109452   \n",
       "27652 -0.527043  0.101874  0.345285 -0.007492  2.246866  3.765927   \n",
       "\n",
       "       job_is__admin.  job_is__blue-collar  job_is__entrepreneur  \\\n",
       "10904               0                    1                     0   \n",
       "28150               0                    0                     0   \n",
       "4832                0                    1                     0   \n",
       "26003               0                    0                     1   \n",
       "27652               0                    0                     0   \n",
       "\n",
       "       job_is__housemaid  ...  loan_is__no  loan_is__yes  \\\n",
       "10904                  0  ...            1             0   \n",
       "28150                  0  ...            1             0   \n",
       "4832                   0  ...            0             1   \n",
       "26003                  0  ...            1             0   \n",
       "27652                  0  ...            0             1   \n",
       "\n",
       "       contact_is__cellular  contact_is__telephone  contact_is__unknown  \\\n",
       "10904                     1                      0                    0   \n",
       "28150                     1                      0                    0   \n",
       "4832                      0                      0                    1   \n",
       "26003                     1                      0                    0   \n",
       "27652                     1                      0                    0   \n",
       "\n",
       "       poutcome_is__failure  poutcome_is__other  poutcome_is__success  \\\n",
       "10904                     0                   0                     0   \n",
       "28150                     1                   0                     0   \n",
       "4832                      0                   0                     0   \n",
       "26003                     1                   0                     0   \n",
       "27652                     1                   0                     0   \n",
       "\n",
       "       poutcome_is__unknown  y  \n",
       "10904                     1  0  \n",
       "28150                     0  0  \n",
       "4832                      1  0  \n",
       "26003                     0  0  \n",
       "27652                     0  0  \n",
       "\n",
       "[5 rows x 39 columns]"
      ]
     },
     "execution_count": 5,
     "metadata": {},
     "output_type": "execute_result"
    }
   ],
   "source": [
    "df.sample(5)"
   ]
  },
  {
   "cell_type": "markdown",
   "metadata": {},
   "source": [
    "### Data splitting\n",
    "\n",
    "Creating training and testing sets.\n"
   ]
  },
  {
   "cell_type": "code",
   "execution_count": 6,
   "metadata": {},
   "outputs": [],
   "source": [
    "X = df.iloc[:,:-1]\n",
    "y = df[\"y\"]\n",
    "X_train, X_test, y_train, y_test = train_test_split(X, y, test_size=0.33, random_state=42)\n",
    "\n",
    "\n"
   ]
  },
  {
   "cell_type": "code",
   "execution_count": 7,
   "metadata": {},
   "outputs": [],
   "source": [
    "# DataFrame to compare all methods\n",
    "comparison = pd.DataFrame(columns = [\"Name\", \"Accuracy\"])"
   ]
  },
  {
   "cell_type": "markdown",
   "metadata": {},
   "source": [
    "## K Nearest Neighbours classification"
   ]
  },
  {
   "cell_type": "code",
   "execution_count": 8,
   "metadata": {},
   "outputs": [],
   "source": [
    "from sklearn.neighbors import KNeighborsClassifier\n",
    "\n",
    "classifier = KNeighborsClassifier(n_neighbors=6)\n",
    "classifier.fit(X_train, y_train);"
   ]
  },
  {
   "cell_type": "code",
   "execution_count": 9,
   "metadata": {},
   "outputs": [
    {
     "name": "stdout",
     "output_type": "stream",
     "text": [
      "Accuraccy score: 92.16% \n",
      "\n",
      " Confusion matrix: \n",
      " [[9907  754]\n",
      " [ 104  180]]\n",
      "\n",
      " classification report: \n",
      "               precision    recall  f1-score   support\n",
      "\n",
      "           0       0.99      0.93      0.96     10661\n",
      "           1       0.19      0.63      0.30       284\n",
      "\n",
      "    accuracy                           0.92     10945\n",
      "   macro avg       0.59      0.78      0.63     10945\n",
      "weighted avg       0.97      0.92      0.94     10945\n",
      "\n"
     ]
    }
   ],
   "source": [
    "prediction = classifier.predict(X_test)\n",
    "showResults(prediction,y_test)"
   ]
  },
  {
   "cell_type": "code",
   "execution_count": 10,
   "metadata": {},
   "outputs": [
    {
     "name": "stdout",
     "output_type": "stream",
     "text": [
      "Accuracy for train set: 93.28%, for test set: 92.16%, difference: 1.12\n"
     ]
    }
   ],
   "source": [
    "a,b = classifier.score(X_train,y_train), classifier.score(X_test,y_test)\n",
    "print(f\"Accuracy for train set: {100*a:.2f}%, for test set: {100*b:.2f}%, difference: {100*(a-b):.2f}\")"
   ]
  },
  {
   "cell_type": "markdown",
   "metadata": {},
   "source": [
    "### Optimisation - the elbow method"
   ]
  },
  {
   "cell_type": "code",
   "execution_count": 11,
   "metadata": {},
   "outputs": [],
   "source": [
    "data = []\n",
    "for i in range(1,30):\n",
    "    classifier = KNeighborsClassifier(n_neighbors=i)\n",
    "    classifier.fit(X_train, y_train)\n",
    "    error = 1 - accuracy_score(classifier.predict(X_test), y_test)\n",
    "    data.append([i,error])\n"
   ]
  },
  {
   "cell_type": "code",
   "execution_count": 12,
   "metadata": {},
   "outputs": [
    {
     "data": {
      "text/plain": [
       "[<matplotlib.lines.Line2D at 0x13a5a6c0850>]"
      ]
     },
     "execution_count": 12,
     "metadata": {},
     "output_type": "execute_result"
    },
    {
     "data": {
      "image/png": "[encoded data removed]",
      "text/plain": [
       "<Figure size 432x288 with 1 Axes>"
      ]
     },
     "metadata": {
      "needs_background": "light"
     },
     "output_type": "display_data"
    }
   ],
   "source": [
    "x = [a[0] for a in data]\n",
    "y = [a[1] for a in data]\n",
    "plt.plot(x,y,color='blue')"
   ]
  },
  {
   "cell_type": "code",
   "execution_count": 13,
   "metadata": {},
   "outputs": [
    {
     "name": "stdout",
     "output_type": "stream",
     "text": [
      "Accuraccy score: 92.27% \n",
      "\n",
      " Confusion matrix: \n",
      " [[9928  763]\n",
      " [  83  171]]\n",
      "\n",
      " classification report: \n",
      "               precision    recall  f1-score   support\n",
      "\n",
      "           0       0.99      0.93      0.96     10691\n",
      "           1       0.18      0.67      0.29       254\n",
      "\n",
      "    accuracy                           0.92     10945\n",
      "   macro avg       0.59      0.80      0.62     10945\n",
      "weighted avg       0.97      0.92      0.94     10945\n",
      "\n"
     ]
    }
   ],
   "source": [
    "# we chose cut off on the level 10\n",
    "classifier = KNeighborsClassifier(n_neighbors=10)\n",
    "classifier.fit(X_train, y_train)\n",
    "prediction = classifier.predict(X_test)\n",
    "showResults(prediction,y_test)\n"
   ]
  },
  {
   "cell_type": "code",
   "execution_count": 14,
   "metadata": {},
   "outputs": [],
   "source": [
    "comparison = comparison.append({\"Name\" : \"KNN\", \"Accuracy\" : accuracy_score(prediction, y_test)},\n",
    "                               ignore_index = True)"
   ]
  },
  {
   "cell_type": "markdown",
   "metadata": {},
   "source": [
    "## Naive Bayes"
   ]
  },
  {
   "cell_type": "markdown",
   "metadata": {},
   "source": [
    "### Inproved NB Bayesian"
   ]
  },
  {
   "cell_type": "code",
   "execution_count": 15,
   "metadata": {},
   "outputs": [],
   "source": [
    "from sklearn.naive_bayes import CategoricalNB\n",
    "from sklearn.naive_bayes import GaussianNB\n",
    "import numpy as np"
   ]
  },
  {
   "cell_type": "markdown",
   "metadata": {},
   "source": [
    "In this case one has to be cautious. Data contains two typed of features: numerical and categorical. It means one cannot use a standard sklearn method gaussian neither binomial. One need to combine them both. I split test data into two groups and apply a proper method for them, later I  use *predict_proba* method to get probabilities and I combine the results by multiplying probabilities for different categories from those two method. Then I chose a larger value to predict categories."
   ]
  },
  {
   "cell_type": "code",
   "execution_count": 16,
   "metadata": {},
   "outputs": [],
   "source": [
    "# splitting train and test data into categorical and continuous features\n",
    "\n",
    "X_train_gauss = X_train.iloc[:,:6]\n",
    "X_train_bi =  X_train.iloc[:, 6:]\n",
    "X_test_gauss = X_test.iloc[:,:6]\n",
    "X_test_bi =  X_test.iloc[:, 6:]"
   ]
  },
  {
   "cell_type": "code",
   "execution_count": 17,
   "metadata": {},
   "outputs": [
    {
     "data": {
      "text/html": [
       "<div>\n",
       "<style scoped>\n",
       "    .dataframe tbody tr th:only-of-type {\n",
       "        vertical-align: middle;\n",
       "    }\n",
       "\n",
       "    .dataframe tbody tr th {\n",
       "        vertical-align: top;\n",
       "    }\n",
       "\n",
       "    .dataframe thead th {\n",
       "        text-align: right;\n",
       "    }\n",
       "</style>\n",
       "<table border=\"1\" class=\"dataframe\">\n",
       "  <thead>\n",
       "    <tr style=\"text-align: right;\">\n",
       "      <th></th>\n",
       "      <th>age</th>\n",
       "      <th>balance</th>\n",
       "      <th>duration</th>\n",
       "      <th>campaign</th>\n",
       "      <th>pdays</th>\n",
       "      <th>previous</th>\n",
       "    </tr>\n",
       "  </thead>\n",
       "  <tbody>\n",
       "    <tr>\n",
       "      <th>23108</th>\n",
       "      <td>-0.527043</td>\n",
       "      <td>0.080180</td>\n",
       "      <td>-0.568012</td>\n",
       "      <td>-0.882404</td>\n",
       "      <td>-0.416056</td>\n",
       "      <td>-0.375262</td>\n",
       "    </tr>\n",
       "    <tr>\n",
       "      <th>28168</th>\n",
       "      <td>0.680446</td>\n",
       "      <td>-0.211480</td>\n",
       "      <td>-0.683986</td>\n",
       "      <td>1.742332</td>\n",
       "      <td>-0.416056</td>\n",
       "      <td>-0.375262</td>\n",
       "    </tr>\n",
       "    <tr>\n",
       "      <th>31503</th>\n",
       "      <td>2.994801</td>\n",
       "      <td>2.408640</td>\n",
       "      <td>-0.234586</td>\n",
       "      <td>0.867420</td>\n",
       "      <td>1.071161</td>\n",
       "      <td>1.281214</td>\n",
       "    </tr>\n",
       "    <tr>\n",
       "      <th>6847</th>\n",
       "      <td>-1.231412</td>\n",
       "      <td>-0.756234</td>\n",
       "      <td>1.251334</td>\n",
       "      <td>1.742332</td>\n",
       "      <td>-0.416056</td>\n",
       "      <td>-0.375262</td>\n",
       "    </tr>\n",
       "    <tr>\n",
       "      <th>2320</th>\n",
       "      <td>1.183567</td>\n",
       "      <td>-0.724899</td>\n",
       "      <td>0.055350</td>\n",
       "      <td>-0.882404</td>\n",
       "      <td>-0.416056</td>\n",
       "      <td>-0.375262</td>\n",
       "    </tr>\n",
       "    <tr>\n",
       "      <th>...</th>\n",
       "      <td>...</td>\n",
       "      <td>...</td>\n",
       "      <td>...</td>\n",
       "      <td>...</td>\n",
       "      <td>...</td>\n",
       "      <td>...</td>\n",
       "    </tr>\n",
       "    <tr>\n",
       "      <th>21084</th>\n",
       "      <td>0.982319</td>\n",
       "      <td>-0.979197</td>\n",
       "      <td>-0.799961</td>\n",
       "      <td>-0.882404</td>\n",
       "      <td>-0.416056</td>\n",
       "      <td>-0.375262</td>\n",
       "    </tr>\n",
       "    <tr>\n",
       "      <th>5652</th>\n",
       "      <td>0.680446</td>\n",
       "      <td>-1.886719</td>\n",
       "      <td>-0.227338</td>\n",
       "      <td>-0.007492</td>\n",
       "      <td>-0.416056</td>\n",
       "      <td>-0.375262</td>\n",
       "    </tr>\n",
       "    <tr>\n",
       "      <th>8443</th>\n",
       "      <td>0.177326</td>\n",
       "      <td>0.028356</td>\n",
       "      <td>-1.060903</td>\n",
       "      <td>-0.882404</td>\n",
       "      <td>-0.416056</td>\n",
       "      <td>-0.375262</td>\n",
       "    </tr>\n",
       "    <tr>\n",
       "      <th>31985</th>\n",
       "      <td>1.887936</td>\n",
       "      <td>-0.755029</td>\n",
       "      <td>-0.350560</td>\n",
       "      <td>-0.007492</td>\n",
       "      <td>3.392424</td>\n",
       "      <td>2.109452</td>\n",
       "    </tr>\n",
       "    <tr>\n",
       "      <th>2915</th>\n",
       "      <td>0.680446</td>\n",
       "      <td>3.145022</td>\n",
       "      <td>-0.067873</td>\n",
       "      <td>0.867420</td>\n",
       "      <td>-0.416056</td>\n",
       "      <td>-0.375262</td>\n",
       "    </tr>\n",
       "  </tbody>\n",
       "</table>\n",
       "<p>10945 rows × 6 columns</p>\n",
       "</div>"
      ],
      "text/plain": [
       "            age   balance  duration  campaign     pdays  previous\n",
       "23108 -0.527043  0.080180 -0.568012 -0.882404 -0.416056 -0.375262\n",
       "28168  0.680446 -0.211480 -0.683986  1.742332 -0.416056 -0.375262\n",
       "31503  2.994801  2.408640 -0.234586  0.867420  1.071161  1.281214\n",
       "6847  -1.231412 -0.756234  1.251334  1.742332 -0.416056 -0.375262\n",
       "2320   1.183567 -0.724899  0.055350 -0.882404 -0.416056 -0.375262\n",
       "...         ...       ...       ...       ...       ...       ...\n",
       "21084  0.982319 -0.979197 -0.799961 -0.882404 -0.416056 -0.375262\n",
       "5652   0.680446 -1.886719 -0.227338 -0.007492 -0.416056 -0.375262\n",
       "8443   0.177326  0.028356 -1.060903 -0.882404 -0.416056 -0.375262\n",
       "31985  1.887936 -0.755029 -0.350560 -0.007492  3.392424  2.109452\n",
       "2915   0.680446  3.145022 -0.067873  0.867420 -0.416056 -0.375262\n",
       "\n",
       "[10945 rows x 6 columns]"
      ]
     },
     "execution_count": 17,
     "metadata": {},
     "output_type": "execute_result"
    }
   ],
   "source": [
    "X_test_gauss"
   ]
  },
  {
   "cell_type": "code",
   "execution_count": 18,
   "metadata": {},
   "outputs": [
    {
     "data": {
      "text/html": [
       "<div>\n",
       "<style scoped>\n",
       "    .dataframe tbody tr th:only-of-type {\n",
       "        vertical-align: middle;\n",
       "    }\n",
       "\n",
       "    .dataframe tbody tr th {\n",
       "        vertical-align: top;\n",
       "    }\n",
       "\n",
       "    .dataframe thead th {\n",
       "        text-align: right;\n",
       "    }\n",
       "</style>\n",
       "<table border=\"1\" class=\"dataframe\">\n",
       "  <thead>\n",
       "    <tr style=\"text-align: right;\">\n",
       "      <th></th>\n",
       "      <th>job_is__admin.</th>\n",
       "      <th>job_is__blue-collar</th>\n",
       "      <th>job_is__entrepreneur</th>\n",
       "      <th>job_is__housemaid</th>\n",
       "      <th>job_is__management</th>\n",
       "      <th>job_is__retired</th>\n",
       "      <th>job_is__self-employed</th>\n",
       "      <th>job_is__services</th>\n",
       "      <th>job_is__student</th>\n",
       "      <th>job_is__technician</th>\n",
       "      <th>...</th>\n",
       "      <th>housing_is__yes</th>\n",
       "      <th>loan_is__no</th>\n",
       "      <th>loan_is__yes</th>\n",
       "      <th>contact_is__cellular</th>\n",
       "      <th>contact_is__telephone</th>\n",
       "      <th>contact_is__unknown</th>\n",
       "      <th>poutcome_is__failure</th>\n",
       "      <th>poutcome_is__other</th>\n",
       "      <th>poutcome_is__success</th>\n",
       "      <th>poutcome_is__unknown</th>\n",
       "    </tr>\n",
       "  </thead>\n",
       "  <tbody>\n",
       "    <tr>\n",
       "      <th>30503</th>\n",
       "      <td>0</td>\n",
       "      <td>0</td>\n",
       "      <td>0</td>\n",
       "      <td>0</td>\n",
       "      <td>0</td>\n",
       "      <td>0</td>\n",
       "      <td>1</td>\n",
       "      <td>0</td>\n",
       "      <td>0</td>\n",
       "      <td>0</td>\n",
       "      <td>...</td>\n",
       "      <td>0</td>\n",
       "      <td>1</td>\n",
       "      <td>0</td>\n",
       "      <td>1</td>\n",
       "      <td>0</td>\n",
       "      <td>0</td>\n",
       "      <td>1</td>\n",
       "      <td>0</td>\n",
       "      <td>0</td>\n",
       "      <td>0</td>\n",
       "    </tr>\n",
       "    <tr>\n",
       "      <th>20457</th>\n",
       "      <td>0</td>\n",
       "      <td>0</td>\n",
       "      <td>1</td>\n",
       "      <td>0</td>\n",
       "      <td>0</td>\n",
       "      <td>0</td>\n",
       "      <td>0</td>\n",
       "      <td>0</td>\n",
       "      <td>0</td>\n",
       "      <td>0</td>\n",
       "      <td>...</td>\n",
       "      <td>1</td>\n",
       "      <td>0</td>\n",
       "      <td>1</td>\n",
       "      <td>1</td>\n",
       "      <td>0</td>\n",
       "      <td>0</td>\n",
       "      <td>1</td>\n",
       "      <td>0</td>\n",
       "      <td>0</td>\n",
       "      <td>0</td>\n",
       "    </tr>\n",
       "    <tr>\n",
       "      <th>10614</th>\n",
       "      <td>0</td>\n",
       "      <td>0</td>\n",
       "      <td>0</td>\n",
       "      <td>0</td>\n",
       "      <td>0</td>\n",
       "      <td>0</td>\n",
       "      <td>0</td>\n",
       "      <td>0</td>\n",
       "      <td>0</td>\n",
       "      <td>1</td>\n",
       "      <td>...</td>\n",
       "      <td>0</td>\n",
       "      <td>1</td>\n",
       "      <td>0</td>\n",
       "      <td>1</td>\n",
       "      <td>0</td>\n",
       "      <td>0</td>\n",
       "      <td>0</td>\n",
       "      <td>0</td>\n",
       "      <td>0</td>\n",
       "      <td>1</td>\n",
       "    </tr>\n",
       "    <tr>\n",
       "      <th>23399</th>\n",
       "      <td>0</td>\n",
       "      <td>0</td>\n",
       "      <td>0</td>\n",
       "      <td>0</td>\n",
       "      <td>1</td>\n",
       "      <td>0</td>\n",
       "      <td>0</td>\n",
       "      <td>0</td>\n",
       "      <td>0</td>\n",
       "      <td>0</td>\n",
       "      <td>...</td>\n",
       "      <td>0</td>\n",
       "      <td>1</td>\n",
       "      <td>0</td>\n",
       "      <td>1</td>\n",
       "      <td>0</td>\n",
       "      <td>0</td>\n",
       "      <td>0</td>\n",
       "      <td>0</td>\n",
       "      <td>0</td>\n",
       "      <td>1</td>\n",
       "    </tr>\n",
       "    <tr>\n",
       "      <th>20168</th>\n",
       "      <td>0</td>\n",
       "      <td>0</td>\n",
       "      <td>0</td>\n",
       "      <td>0</td>\n",
       "      <td>1</td>\n",
       "      <td>0</td>\n",
       "      <td>0</td>\n",
       "      <td>0</td>\n",
       "      <td>0</td>\n",
       "      <td>0</td>\n",
       "      <td>...</td>\n",
       "      <td>0</td>\n",
       "      <td>0</td>\n",
       "      <td>1</td>\n",
       "      <td>1</td>\n",
       "      <td>0</td>\n",
       "      <td>0</td>\n",
       "      <td>1</td>\n",
       "      <td>0</td>\n",
       "      <td>0</td>\n",
       "      <td>0</td>\n",
       "    </tr>\n",
       "    <tr>\n",
       "      <th>...</th>\n",
       "      <td>...</td>\n",
       "      <td>...</td>\n",
       "      <td>...</td>\n",
       "      <td>...</td>\n",
       "      <td>...</td>\n",
       "      <td>...</td>\n",
       "      <td>...</td>\n",
       "      <td>...</td>\n",
       "      <td>...</td>\n",
       "      <td>...</td>\n",
       "      <td>...</td>\n",
       "      <td>...</td>\n",
       "      <td>...</td>\n",
       "      <td>...</td>\n",
       "      <td>...</td>\n",
       "      <td>...</td>\n",
       "      <td>...</td>\n",
       "      <td>...</td>\n",
       "      <td>...</td>\n",
       "      <td>...</td>\n",
       "      <td>...</td>\n",
       "    </tr>\n",
       "    <tr>\n",
       "      <th>16850</th>\n",
       "      <td>0</td>\n",
       "      <td>0</td>\n",
       "      <td>0</td>\n",
       "      <td>0</td>\n",
       "      <td>0</td>\n",
       "      <td>1</td>\n",
       "      <td>0</td>\n",
       "      <td>0</td>\n",
       "      <td>0</td>\n",
       "      <td>0</td>\n",
       "      <td>...</td>\n",
       "      <td>0</td>\n",
       "      <td>1</td>\n",
       "      <td>0</td>\n",
       "      <td>1</td>\n",
       "      <td>0</td>\n",
       "      <td>0</td>\n",
       "      <td>0</td>\n",
       "      <td>0</td>\n",
       "      <td>0</td>\n",
       "      <td>1</td>\n",
       "    </tr>\n",
       "    <tr>\n",
       "      <th>6265</th>\n",
       "      <td>0</td>\n",
       "      <td>0</td>\n",
       "      <td>0</td>\n",
       "      <td>0</td>\n",
       "      <td>1</td>\n",
       "      <td>0</td>\n",
       "      <td>0</td>\n",
       "      <td>0</td>\n",
       "      <td>0</td>\n",
       "      <td>0</td>\n",
       "      <td>...</td>\n",
       "      <td>1</td>\n",
       "      <td>1</td>\n",
       "      <td>0</td>\n",
       "      <td>0</td>\n",
       "      <td>0</td>\n",
       "      <td>1</td>\n",
       "      <td>0</td>\n",
       "      <td>0</td>\n",
       "      <td>0</td>\n",
       "      <td>1</td>\n",
       "    </tr>\n",
       "    <tr>\n",
       "      <th>11284</th>\n",
       "      <td>0</td>\n",
       "      <td>0</td>\n",
       "      <td>0</td>\n",
       "      <td>0</td>\n",
       "      <td>1</td>\n",
       "      <td>0</td>\n",
       "      <td>0</td>\n",
       "      <td>0</td>\n",
       "      <td>0</td>\n",
       "      <td>0</td>\n",
       "      <td>...</td>\n",
       "      <td>1</td>\n",
       "      <td>1</td>\n",
       "      <td>0</td>\n",
       "      <td>1</td>\n",
       "      <td>0</td>\n",
       "      <td>0</td>\n",
       "      <td>0</td>\n",
       "      <td>0</td>\n",
       "      <td>0</td>\n",
       "      <td>1</td>\n",
       "    </tr>\n",
       "    <tr>\n",
       "      <th>860</th>\n",
       "      <td>0</td>\n",
       "      <td>0</td>\n",
       "      <td>0</td>\n",
       "      <td>0</td>\n",
       "      <td>0</td>\n",
       "      <td>0</td>\n",
       "      <td>0</td>\n",
       "      <td>1</td>\n",
       "      <td>0</td>\n",
       "      <td>0</td>\n",
       "      <td>...</td>\n",
       "      <td>0</td>\n",
       "      <td>1</td>\n",
       "      <td>0</td>\n",
       "      <td>0</td>\n",
       "      <td>0</td>\n",
       "      <td>1</td>\n",
       "      <td>0</td>\n",
       "      <td>0</td>\n",
       "      <td>0</td>\n",
       "      <td>1</td>\n",
       "    </tr>\n",
       "    <tr>\n",
       "      <th>15795</th>\n",
       "      <td>0</td>\n",
       "      <td>0</td>\n",
       "      <td>0</td>\n",
       "      <td>0</td>\n",
       "      <td>1</td>\n",
       "      <td>0</td>\n",
       "      <td>0</td>\n",
       "      <td>0</td>\n",
       "      <td>0</td>\n",
       "      <td>0</td>\n",
       "      <td>...</td>\n",
       "      <td>0</td>\n",
       "      <td>0</td>\n",
       "      <td>1</td>\n",
       "      <td>1</td>\n",
       "      <td>0</td>\n",
       "      <td>0</td>\n",
       "      <td>0</td>\n",
       "      <td>0</td>\n",
       "      <td>0</td>\n",
       "      <td>1</td>\n",
       "    </tr>\n",
       "  </tbody>\n",
       "</table>\n",
       "<p>22221 rows × 32 columns</p>\n",
       "</div>"
      ],
      "text/plain": [
       "       job_is__admin.  job_is__blue-collar  job_is__entrepreneur  \\\n",
       "30503               0                    0                     0   \n",
       "20457               0                    0                     1   \n",
       "10614               0                    0                     0   \n",
       "23399               0                    0                     0   \n",
       "20168               0                    0                     0   \n",
       "...               ...                  ...                   ...   \n",
       "16850               0                    0                     0   \n",
       "6265                0                    0                     0   \n",
       "11284               0                    0                     0   \n",
       "860                 0                    0                     0   \n",
       "15795               0                    0                     0   \n",
       "\n",
       "       job_is__housemaid  job_is__management  job_is__retired  \\\n",
       "30503                  0                   0                0   \n",
       "20457                  0                   0                0   \n",
       "10614                  0                   0                0   \n",
       "23399                  0                   1                0   \n",
       "20168                  0                   1                0   \n",
       "...                  ...                 ...              ...   \n",
       "16850                  0                   0                1   \n",
       "6265                   0                   1                0   \n",
       "11284                  0                   1                0   \n",
       "860                    0                   0                0   \n",
       "15795                  0                   1                0   \n",
       "\n",
       "       job_is__self-employed  job_is__services  job_is__student  \\\n",
       "30503                      1                 0                0   \n",
       "20457                      0                 0                0   \n",
       "10614                      0                 0                0   \n",
       "23399                      0                 0                0   \n",
       "20168                      0                 0                0   \n",
       "...                      ...               ...              ...   \n",
       "16850                      0                 0                0   \n",
       "6265                       0                 0                0   \n",
       "11284                      0                 0                0   \n",
       "860                        0                 1                0   \n",
       "15795                      0                 0                0   \n",
       "\n",
       "       job_is__technician  ...  housing_is__yes  loan_is__no  loan_is__yes  \\\n",
       "30503                   0  ...                0            1             0   \n",
       "20457                   0  ...                1            0             1   \n",
       "10614                   1  ...                0            1             0   \n",
       "23399                   0  ...                0            1             0   \n",
       "20168                   0  ...                0            0             1   \n",
       "...                   ...  ...              ...          ...           ...   \n",
       "16850                   0  ...                0            1             0   \n",
       "6265                    0  ...                1            1             0   \n",
       "11284                   0  ...                1            1             0   \n",
       "860                     0  ...                0            1             0   \n",
       "15795                   0  ...                0            0             1   \n",
       "\n",
       "       contact_is__cellular  contact_is__telephone  contact_is__unknown  \\\n",
       "30503                     1                      0                    0   \n",
       "20457                     1                      0                    0   \n",
       "10614                     1                      0                    0   \n",
       "23399                     1                      0                    0   \n",
       "20168                     1                      0                    0   \n",
       "...                     ...                    ...                  ...   \n",
       "16850                     1                      0                    0   \n",
       "6265                      0                      0                    1   \n",
       "11284                     1                      0                    0   \n",
       "860                       0                      0                    1   \n",
       "15795                     1                      0                    0   \n",
       "\n",
       "       poutcome_is__failure  poutcome_is__other  poutcome_is__success  \\\n",
       "30503                     1                   0                     0   \n",
       "20457                     1                   0                     0   \n",
       "10614                     0                   0                     0   \n",
       "23399                     0                   0                     0   \n",
       "20168                     1                   0                     0   \n",
       "...                     ...                 ...                   ...   \n",
       "16850                     0                   0                     0   \n",
       "6265                      0                   0                     0   \n",
       "11284                     0                   0                     0   \n",
       "860                       0                   0                     0   \n",
       "15795                     0                   0                     0   \n",
       "\n",
       "       poutcome_is__unknown  \n",
       "30503                     0  \n",
       "20457                     0  \n",
       "10614                     1  \n",
       "23399                     1  \n",
       "20168                     0  \n",
       "...                     ...  \n",
       "16850                     1  \n",
       "6265                      1  \n",
       "11284                     1  \n",
       "860                       1  \n",
       "15795                     1  \n",
       "\n",
       "[22221 rows x 32 columns]"
      ]
     },
     "execution_count": 18,
     "metadata": {},
     "output_type": "execute_result"
    }
   ],
   "source": [
    "X_train_bi"
   ]
  },
  {
   "cell_type": "code",
   "execution_count": 19,
   "metadata": {},
   "outputs": [],
   "source": [
    "# training two different model \n",
    "\n",
    "classifier_gauss = GaussianNB()\n",
    "classifier_gauss.fit(X_train_gauss, y_train);\n",
    "classifier_cat = CategoricalNB()\n",
    "classifier_cat.fit(X_train_bi, y_train);"
   ]
  },
  {
   "cell_type": "code",
   "execution_count": 20,
   "metadata": {},
   "outputs": [],
   "source": [
    "# getting probabilities for two models\n",
    "\n",
    "score_cat = classifier_cat.predict_proba(X_test_bi)\n",
    "score_gauss = classifier_gauss.predict_proba(X_test_gauss)"
   ]
  },
  {
   "cell_type": "code",
   "execution_count": 21,
   "metadata": {},
   "outputs": [],
   "source": [
    "def NB_predict(score_gauss,score_cat):\n",
    "    '''\n",
    "    Function calculating predicted categories. We multiply input results and choose larger probabilities. \n",
    "    As a result function returns np array with predicted categories  \n",
    "    '''\n",
    "    size = len(score_gauss)\n",
    "    result = np.ndarray(size)\n",
    "    for i in range(size):\n",
    "        if score_gauss[i,0] * score_cat[i,0] < score_gauss[i,1] * score_cat[i,1]:\n",
    "            result[i] = 1\n",
    "        else:\n",
    "            result[i] = 0\n",
    "    return result"
   ]
  },
  {
   "cell_type": "code",
   "execution_count": 22,
   "metadata": {},
   "outputs": [],
   "source": [
    "result = NB_predict(score_gauss,score_cat)\n"
   ]
  },
  {
   "cell_type": "code",
   "execution_count": 23,
   "metadata": {},
   "outputs": [
    {
     "data": {
      "text/plain": [
       "0.9074463225216994"
      ]
     },
     "execution_count": 23,
     "metadata": {},
     "output_type": "execute_result"
    }
   ],
   "source": [
    "accuracy_score(result,y_test)"
   ]
  },
  {
   "cell_type": "code",
   "execution_count": 24,
   "metadata": {},
   "outputs": [],
   "source": [
    "comparison = comparison.append({\"Name\" : \"Naive B\", \"Accuracy\" : accuracy_score(prediction, y_test)},\n",
    "                               ignore_index = True)"
   ]
  },
  {
   "cell_type": "markdown",
   "metadata": {},
   "source": [
    "### SVM\n"
   ]
  },
  {
   "cell_type": "markdown",
   "metadata": {},
   "source": [
    "In this section I use the Grid Search to find the best kerel, its gamma parameter and regularisation parameter $C$. I used default 5fold cross validation. I found the best estimator and perform model fitting once again (without cross validation, since it is not used in the other methods) \n",
    "\n",
    "#### Grid Search"
   ]
  },
  {
   "cell_type": "code",
   "execution_count": 25,
   "metadata": {},
   "outputs": [],
   "source": [
    "from sklearn.model_selection import GridSearchCV"
   ]
  },
  {
   "cell_type": "code",
   "execution_count": 9,
   "metadata": {},
   "outputs": [],
   "source": [
    "grid_params = {'C': [0.5,1, 3], 'gamma': [1,0.1,0.01],'kernel': ['rbf', 'poly', 'sigmoid']}"
   ]
  },
  {
   "cell_type": "code",
   "execution_count": 10,
   "metadata": {},
   "outputs": [
    {
     "name": "stdout",
     "output_type": "stream",
     "text": [
      "Fitting 5 folds for each of 27 candidates, totalling 135 fits\n"
     ]
    },
    {
     "name": "stderr",
     "output_type": "stream",
     "text": [
      "[Parallel(n_jobs=4)]: Using backend LokyBackend with 4 concurrent workers.\n",
      "[Parallel(n_jobs=4)]: Done  33 tasks      | elapsed: 12.7min\n",
      "[Parallel(n_jobs=4)]: Done 135 out of 135 | elapsed: 179.9min finished\n"
     ]
    },
    {
     "data": {
      "text/plain": [
       "GridSearchCV(estimator=SVC(), n_jobs=4,\n",
       "             param_grid={'C': [0.5, 1, 3], 'gamma': [1, 0.1, 0.01],\n",
       "                         'kernel': ['rbf', 'poly', 'sigmoid']},\n",
       "             verbose=2)"
      ]
     },
     "execution_count": 10,
     "metadata": {},
     "output_type": "execute_result"
    }
   ],
   "source": [
    "grid = GridSearchCV(SVC(),grid_params,refit=True,verbose=2,n_jobs=4)\n",
    "grid.fit(X_train,y_train)"
   ]
  },
  {
   "cell_type": "code",
   "execution_count": 12,
   "metadata": {},
   "outputs": [
    {
     "data": {
      "text/plain": [
       "SVC(C=0.5, gamma=0.1, kernel='poly')"
      ]
     },
     "execution_count": 12,
     "metadata": {},
     "output_type": "execute_result"
    }
   ],
   "source": [
    "grid.best_estimator_"
   ]
  },
  {
   "cell_type": "markdown",
   "metadata": {},
   "source": [
    "#### Model fitting"
   ]
  },
  {
   "cell_type": "code",
   "execution_count": 26,
   "metadata": {},
   "outputs": [
    {
     "data": {
      "text/plain": [
       "SVC(C=0.5, gamma=0.1, kernel='poly')"
      ]
     },
     "execution_count": 26,
     "metadata": {},
     "output_type": "execute_result"
    }
   ],
   "source": [
    "from sklearn.svm import SVC\n",
    "classifier = SVC(kernel=\"poly\", C=0.5,gamma=0.1)\n",
    "classifier.fit(X_train, y_train)"
   ]
  },
  {
   "cell_type": "code",
   "execution_count": 27,
   "metadata": {},
   "outputs": [
    {
     "name": "stdout",
     "output_type": "stream",
     "text": [
      "Accuraccy score: 92.58% \n",
      "\n",
      " Confusion matrix: \n",
      " [[9918  719]\n",
      " [  93  215]]\n",
      "\n",
      " classification report: \n",
      "               precision    recall  f1-score   support\n",
      "\n",
      "           0       0.99      0.93      0.96     10637\n",
      "           1       0.23      0.70      0.35       308\n",
      "\n",
      "    accuracy                           0.93     10945\n",
      "   macro avg       0.61      0.82      0.65     10945\n",
      "weighted avg       0.97      0.93      0.94     10945\n",
      "\n"
     ]
    }
   ],
   "source": [
    "prediction = classifier.predict(X_test)\n",
    "showResults(prediction,y_test)"
   ]
  },
  {
   "cell_type": "code",
   "execution_count": 28,
   "metadata": {},
   "outputs": [],
   "source": [
    "comparison = comparison.append({\"Name\" : \"SVM\", \"Accuracy\" : accuracy_score(prediction, y_test)}, \n",
    "                               ignore_index = True)"
   ]
  },
  {
   "cell_type": "markdown",
   "metadata": {},
   "source": [
    "### Logistic Regression"
   ]
  },
  {
   "cell_type": "code",
   "execution_count": 29,
   "metadata": {},
   "outputs": [],
   "source": [
    "from sklearn.linear_model import LogisticRegression"
   ]
  },
  {
   "cell_type": "code",
   "execution_count": 30,
   "metadata": {},
   "outputs": [
    {
     "data": {
      "text/plain": [
       "LogisticRegression(max_iter=200)"
      ]
     },
     "execution_count": 30,
     "metadata": {},
     "output_type": "execute_result"
    }
   ],
   "source": [
    "lr = LogisticRegression(max_iter=200)\n",
    "lr.fit(X_train,y_train)"
   ]
  },
  {
   "cell_type": "code",
   "execution_count": 31,
   "metadata": {},
   "outputs": [],
   "source": [
    "accuracy = lr.score(X_test,y_test)"
   ]
  },
  {
   "cell_type": "code",
   "execution_count": 32,
   "metadata": {},
   "outputs": [],
   "source": [
    "comparison = comparison.append({\"Name\" : \"Log Reg\", \"Accuracy\" : accuracy}, ignore_index = True)"
   ]
  },
  {
   "cell_type": "markdown",
   "metadata": {},
   "source": [
    "## Decision Tree"
   ]
  },
  {
   "cell_type": "code",
   "execution_count": 33,
   "metadata": {},
   "outputs": [],
   "source": [
    "from sklearn.tree import DecisionTreeClassifier"
   ]
  },
  {
   "cell_type": "code",
   "execution_count": 34,
   "metadata": {},
   "outputs": [
    {
     "data": {
      "text/plain": [
       "DecisionTreeClassifier(max_depth=3)"
      ]
     },
     "execution_count": 34,
     "metadata": {},
     "output_type": "execute_result"
    }
   ],
   "source": [
    "dt = DecisionTreeClassifier(max_depth=3)\n",
    "dt.fit(X_train,y_train)"
   ]
  },
  {
   "cell_type": "code",
   "execution_count": 35,
   "metadata": {},
   "outputs": [],
   "source": [
    "accuracy = dt.score(X_test,y_test)"
   ]
  },
  {
   "cell_type": "code",
   "execution_count": 36,
   "metadata": {},
   "outputs": [],
   "source": [
    "comparison = comparison.append({\"Name\" : \"Dec Tree\", \"Accuracy\" : accuracy}, ignore_index = True)"
   ]
  },
  {
   "cell_type": "markdown",
   "metadata": {},
   "source": [
    "## Random Forrest"
   ]
  },
  {
   "cell_type": "code",
   "execution_count": 37,
   "metadata": {},
   "outputs": [],
   "source": [
    "from sklearn.ensemble import RandomForestClassifier"
   ]
  },
  {
   "cell_type": "code",
   "execution_count": 38,
   "metadata": {},
   "outputs": [
    {
     "data": {
      "text/plain": [
       "RandomForestClassifier()"
      ]
     },
     "execution_count": 38,
     "metadata": {},
     "output_type": "execute_result"
    }
   ],
   "source": [
    "rf = RandomForestClassifier()\n",
    "rf.fit(X_train,y_train)"
   ]
  },
  {
   "cell_type": "code",
   "execution_count": 39,
   "metadata": {},
   "outputs": [],
   "source": [
    "accuracy = rf.score(X_test,y_test)"
   ]
  },
  {
   "cell_type": "code",
   "execution_count": 40,
   "metadata": {},
   "outputs": [
    {
     "name": "stdout",
     "output_type": "stream",
     "text": [
      "Accuraccy score: 92.76% \n",
      "\n",
      " Confusion matrix: \n",
      " [[9876  657]\n",
      " [ 135  277]]\n",
      "\n",
      " classification report: \n",
      "               precision    recall  f1-score   support\n",
      "\n",
      "           0       0.99      0.94      0.96     10533\n",
      "           1       0.30      0.67      0.41       412\n",
      "\n",
      "    accuracy                           0.93     10945\n",
      "   macro avg       0.64      0.80      0.69     10945\n",
      "weighted avg       0.96      0.93      0.94     10945\n",
      "\n"
     ]
    }
   ],
   "source": [
    "prediction = rf.predict(X_test)\n",
    "showResults(prediction,y_test)"
   ]
  },
  {
   "cell_type": "code",
   "execution_count": 41,
   "metadata": {},
   "outputs": [],
   "source": [
    "comparison = comparison.append({\"Name\" : \"Rand Forr\", \"Accuracy\" : accuracy}, ignore_index = True)"
   ]
  },
  {
   "cell_type": "markdown",
   "metadata": {},
   "source": [
    "## Comparison"
   ]
  },
  {
   "cell_type": "code",
   "execution_count": 42,
   "metadata": {},
   "outputs": [
    {
     "data": {
      "text/html": [
       "<div>\n",
       "<style scoped>\n",
       "    .dataframe tbody tr th:only-of-type {\n",
       "        vertical-align: middle;\n",
       "    }\n",
       "\n",
       "    .dataframe tbody tr th {\n",
       "        vertical-align: top;\n",
       "    }\n",
       "\n",
       "    .dataframe thead th {\n",
       "        text-align: right;\n",
       "    }\n",
       "</style>\n",
       "<table border=\"1\" class=\"dataframe\">\n",
       "  <thead>\n",
       "    <tr style=\"text-align: right;\">\n",
       "      <th></th>\n",
       "      <th>Name</th>\n",
       "      <th>Accuracy</th>\n",
       "    </tr>\n",
       "  </thead>\n",
       "  <tbody>\n",
       "    <tr>\n",
       "      <th>5</th>\n",
       "      <td>Rand Forr</td>\n",
       "      <td>0.927638</td>\n",
       "    </tr>\n",
       "    <tr>\n",
       "      <th>4</th>\n",
       "      <td>Dec Tree</td>\n",
       "      <td>0.927455</td>\n",
       "    </tr>\n",
       "    <tr>\n",
       "      <th>3</th>\n",
       "      <td>Log Reg</td>\n",
       "      <td>0.926542</td>\n",
       "    </tr>\n",
       "    <tr>\n",
       "      <th>2</th>\n",
       "      <td>SVM</td>\n",
       "      <td>0.925811</td>\n",
       "    </tr>\n",
       "    <tr>\n",
       "      <th>0</th>\n",
       "      <td>KNN</td>\n",
       "      <td>0.922704</td>\n",
       "    </tr>\n",
       "    <tr>\n",
       "      <th>1</th>\n",
       "      <td>Naive B</td>\n",
       "      <td>0.922704</td>\n",
       "    </tr>\n",
       "  </tbody>\n",
       "</table>\n",
       "</div>"
      ],
      "text/plain": [
       "        Name  Accuracy\n",
       "5  Rand Forr  0.927638\n",
       "4   Dec Tree  0.927455\n",
       "3    Log Reg  0.926542\n",
       "2        SVM  0.925811\n",
       "0        KNN  0.922704\n",
       "1    Naive B  0.922704"
      ]
     },
     "execution_count": 42,
     "metadata": {},
     "output_type": "execute_result"
    }
   ],
   "source": [
    "comparison.sort_values(by=[\"Accuracy\"], ascending= False)"
   ]
  },
  {
   "cell_type": "code",
   "execution_count": null,
   "metadata": {},
   "outputs": [],
   "source": []
  }
 ],
 "metadata": {
  "kernelspec": {
   "display_name": "Python 3",
   "language": "python",
   "name": "python3"
  },
  "language_info": {
   "codemirror_mode": {
    "name": "ipython",
    "version": 3
   },
   "file_extension": ".py",
   "mimetype": "text/x-python",
   "name": "python",
   "nbconvert_exporter": "python",
   "pygments_lexer": "ipython3",
   "version": "3.8.5"
  }
 },
 "nbformat": 4,
 "nbformat_minor": 4
}
